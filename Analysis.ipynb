{
 "cells": [
  {
   "cell_type": "markdown",
   "id": "76365eb5",
   "metadata": {},
   "source": [
    "# A Public Health Study"
   ]
  },
  {
   "cell_type": "markdown",
   "id": "033845c2",
   "metadata": {},
   "source": [
    "----------------------------------------------------------------------------------------------------------------------"
   ]
  },
  {
   "cell_type": "code",
   "execution_count": 1,
   "id": "44a03d76",
   "metadata": {},
   "outputs": [],
   "source": [
    "# Import libraries\n",
    "import numpy as np\n",
    "import pandas as pd"
   ]
  },
  {
   "cell_type": "markdown",
   "id": "60001543",
   "metadata": {},
   "source": [
    "## Summary\n",
    "\n",
    "* [Undernourished people's proportion](#chapitre1)\n",
    "\n",
    "    * [The 10 countries with the highest rates of undernourishment in 2017](#section1_1)\n",
    "    * [Undernourishment proportion by country in relation to world population in 2017](#section1_2)\n",
    "    * [Undernourished people in the world in 2017](#section1_3)  \n",
    "    \n",
    "* [Food aid](#chapitre2)\n",
    "\n",
    "    * [The 10 countries receiving the most aid in the world between 2013 and 2017](#section2_1)\n",
    "    * [The 10 countries receiving the least aid between 2013 and 2017](#section2_2)\n",
    "    \n",
    "* [Food availability](#chapitre3)\n",
    "\n",
    "    * [The 10 countries with the highest food availability in calories per person per day](#section3_1)\n",
    "    * [The 10 countries with the lowest food availability in calories per person per day](#section3_2)\n",
    "    \n",
    "* [World capacity](#chapitre4)\n",
    "\n",
    "    * [Theoretical number of people in the world who could be fed daily](#section4_1)\n",
    "    * [Theoretical number of people in the world who could be fed daily with plant-based product ](#section4_2)\n",
    "    \n",
    "* [Internal availability and its distribution](#chapitre5)\n",
    "\n",
    "    * [Repartition rates of internal availability in the world](#section5_1)\n",
    "    * [Repartition rates of internal availability of cereals](#section5_2)\n",
    "    \n",
    "* [Thailand's use of cassava](#chapitre6)\n",
    "\n",
    "* [Evolution of undernourishment between 2013 and 2017](#chapitre7)\n",
    "\n",
    "    * [The 10 countries with the highest increase in undernourishment rates](#section7_1)\n",
    "    * [The 10 countries with the biggest reductions in undernourishment rates](#section7_2)\n",
    "    \n",
    "* [Evolution of food availability between 2013 and 2017](#chapitre8)\n",
    "\n",
    "    * [The 10 countries with the largest increase in food availability (Kcal/person/day)](#section8_1)\n",
    "    * [The 10 countries with the largest decline in food availability (Kcal/person/day)](#section8_2)\n",
    "    \n",
    "* [The 10 countries with the highest loss rates](#chapitre9)"
   ]
  },
  {
   "cell_type": "markdown",
   "id": "1467fce2",
   "metadata": {},
   "source": [
    "## Undernourished people's proportion <a class=\"anchor\" id=\"chapitre1\"></a>"
   ]
  },
  {
   "cell_type": "code",
   "execution_count": 2,
   "id": "1ec88746",
   "metadata": {},
   "outputs": [],
   "source": [
    "# Import csv file\n",
    "sn = pd.read_csv('/Users/antoinebergounhe/Desktop/Openclassroom/Projet 4/DAN-P4-FAO/sous_nutrition.csv')"
   ]
  },
  {
   "cell_type": "code",
   "execution_count": 3,
   "id": "84175b73",
   "metadata": {},
   "outputs": [],
   "source": [
    "# Replace interval years with reference year\n",
    "sn['Année']=sn['Année'].apply(lambda x: x.replace(\"2012-2014\",\"2013\").replace(\"2013-2015\",\"2014\").replace(\"2014-2016\",\"2015\").replace(\"2015-2017\",\"2016\").replace(\"2016-2018\",\"2017\").replace(\"2017-2019\",\"2018\"))"
   ]
  },
  {
   "cell_type": "code",
   "execution_count": 4,
   "id": "5e68ac10",
   "metadata": {},
   "outputs": [],
   "source": [
    "# Replace '<0.1', '' and 'NaN' values with 0 to avoid calculation errors\n",
    "sn['Valeur']=sn['Valeur'].replace('<0.1','0')\n",
    "sn['Valeur']=sn['Valeur'].replace('','0')\n",
    "sn['Valeur']=sn['Valeur'].fillna(0)"
   ]
  },
  {
   "cell_type": "code",
   "execution_count": 5,
   "id": "12996efe",
   "metadata": {},
   "outputs": [],
   "source": [
    "# Define the data types for the 'Value' and 'Year' columns as decimal and integer\n",
    "sn['Valeur']=sn['Valeur'].astype('float')\n",
    "sn['Année']=sn['Année'].astype('int64')"
   ]
  },
  {
   "cell_type": "code",
   "execution_count": 6,
   "id": "7a092310",
   "metadata": {
    "scrolled": true
   },
   "outputs": [],
   "source": [
    "# Change the value unit to million -> unit to have the same units of measurement between dataframes\n",
    "sn['Valeur']=sn['Valeur']*1000000"
   ]
  },
  {
   "cell_type": "code",
   "execution_count": 7,
   "id": "6269ff0f",
   "metadata": {},
   "outputs": [],
   "source": [
    "# Import csv file\n",
    "pop = pd.read_csv('/Users/antoinebergounhe/Desktop/Openclassroom/Projet 4/DAN-P4-FAO/population.csv')"
   ]
  },
  {
   "cell_type": "code",
   "execution_count": 8,
   "id": "62cbbd23",
   "metadata": {},
   "outputs": [],
   "source": [
    "# Modify the value unit. Thousand -> Unit to have the same unit of measurement as the 'sn' dataframe\n",
    "pop['Valeur']=pop['Valeur']*1000"
   ]
  },
  {
   "cell_type": "code",
   "execution_count": 9,
   "id": "3ae8796b",
   "metadata": {
    "scrolled": true
   },
   "outputs": [],
   "source": [
    "# Create a dataframe with the population for the year 2017 by country in alphabetical order\n",
    "pop_2017 = pop[pop['Année'] == 2017].sort_values(by='Valeur').sort_values(['Zone'], ascending=True).reset_index(drop=True)"
   ]
  },
  {
   "cell_type": "code",
   "execution_count": 10,
   "id": "919497e4",
   "metadata": {
    "scrolled": true
   },
   "outputs": [],
   "source": [
    "# Create a dataframe with the population for the year 2013 by country in alphabetical order\n",
    "pop_2013 = pop[pop['Année'] == 2013].sort_values(by='Valeur').sort_values(['Zone'], ascending=True).reset_index(drop=True)"
   ]
  },
  {
   "cell_type": "code",
   "execution_count": 11,
   "id": "67e417bf",
   "metadata": {},
   "outputs": [],
   "source": [
    "# Create a dataframe 'snp' consisting of the association of dataframes 'sn' and 'pop' linked by the keys 'zone' and 'year'\n",
    "snp = pd.merge(sn,pop, on=['Zone', 'Année'])"
   ]
  },
  {
   "cell_type": "code",
   "execution_count": 12,
   "id": "2b68a7a6",
   "metadata": {},
   "outputs": [],
   "source": [
    "# Rename the columns in the new dataframe to make them easier to read\n",
    "snp.rename(columns={'Valeur_x':'Population en sous_nutrition', 'Valeur_y':'Population totale'}, inplace=True)"
   ]
  },
  {
   "cell_type": "code",
   "execution_count": 13,
   "id": "08340f1d",
   "metadata": {},
   "outputs": [],
   "source": [
    "# Create a new column, each row will be the result of the following mathematical operation\n",
    "snp['Proportion sous_alimentée']=round((snp['Population en sous_nutrition']/snp['Population totale'])*100,2)"
   ]
  },
  {
   "cell_type": "markdown",
   "id": "3d16972a",
   "metadata": {},
   "source": [
    "### The 10 countries with the highest rates of undernourishment in 2017 <a class=\"anchor\" id=\"section1_1\"></a>"
   ]
  },
  {
   "cell_type": "code",
   "execution_count": 14,
   "id": "6fcaf0e2",
   "metadata": {
    "scrolled": true
   },
   "outputs": [
    {
     "data": {
      "text/html": [
       "<div>\n",
       "<style scoped>\n",
       "    .dataframe tbody tr th:only-of-type {\n",
       "        vertical-align: middle;\n",
       "    }\n",
       "\n",
       "    .dataframe tbody tr th {\n",
       "        vertical-align: top;\n",
       "    }\n",
       "\n",
       "    .dataframe thead th {\n",
       "        text-align: right;\n",
       "    }\n",
       "</style>\n",
       "<table border=\"1\" class=\"dataframe\">\n",
       "  <thead>\n",
       "    <tr style=\"text-align: right;\">\n",
       "      <th></th>\n",
       "      <th>Zone</th>\n",
       "      <th>Année</th>\n",
       "      <th>Population en sous_nutrition</th>\n",
       "      <th>Population totale</th>\n",
       "      <th>Proportion sous_alimentée</th>\n",
       "    </tr>\n",
       "  </thead>\n",
       "  <tbody>\n",
       "    <tr>\n",
       "      <th>0</th>\n",
       "      <td>Haïti</td>\n",
       "      <td>2017</td>\n",
       "      <td>5300000.0</td>\n",
       "      <td>10982366.0</td>\n",
       "      <td>48.26</td>\n",
       "    </tr>\n",
       "    <tr>\n",
       "      <th>1</th>\n",
       "      <td>République populaire démocratique de Corée</td>\n",
       "      <td>2017</td>\n",
       "      <td>12000000.0</td>\n",
       "      <td>25429825.0</td>\n",
       "      <td>47.19</td>\n",
       "    </tr>\n",
       "    <tr>\n",
       "      <th>2</th>\n",
       "      <td>Madagascar</td>\n",
       "      <td>2017</td>\n",
       "      <td>10500000.0</td>\n",
       "      <td>25570512.0</td>\n",
       "      <td>41.06</td>\n",
       "    </tr>\n",
       "    <tr>\n",
       "      <th>3</th>\n",
       "      <td>Libéria</td>\n",
       "      <td>2017</td>\n",
       "      <td>1800000.0</td>\n",
       "      <td>4702226.0</td>\n",
       "      <td>38.28</td>\n",
       "    </tr>\n",
       "    <tr>\n",
       "      <th>4</th>\n",
       "      <td>Lesotho</td>\n",
       "      <td>2017</td>\n",
       "      <td>800000.0</td>\n",
       "      <td>2091534.0</td>\n",
       "      <td>38.25</td>\n",
       "    </tr>\n",
       "    <tr>\n",
       "      <th>5</th>\n",
       "      <td>Tchad</td>\n",
       "      <td>2017</td>\n",
       "      <td>5700000.0</td>\n",
       "      <td>15016753.0</td>\n",
       "      <td>37.96</td>\n",
       "    </tr>\n",
       "    <tr>\n",
       "      <th>6</th>\n",
       "      <td>Rwanda</td>\n",
       "      <td>2017</td>\n",
       "      <td>4200000.0</td>\n",
       "      <td>11980961.0</td>\n",
       "      <td>35.06</td>\n",
       "    </tr>\n",
       "    <tr>\n",
       "      <th>7</th>\n",
       "      <td>Mozambique</td>\n",
       "      <td>2017</td>\n",
       "      <td>9400000.0</td>\n",
       "      <td>28649018.0</td>\n",
       "      <td>32.81</td>\n",
       "    </tr>\n",
       "    <tr>\n",
       "      <th>8</th>\n",
       "      <td>Timor-Leste</td>\n",
       "      <td>2017</td>\n",
       "      <td>400000.0</td>\n",
       "      <td>1243258.0</td>\n",
       "      <td>32.17</td>\n",
       "    </tr>\n",
       "    <tr>\n",
       "      <th>9</th>\n",
       "      <td>Afghanistan</td>\n",
       "      <td>2017</td>\n",
       "      <td>10500000.0</td>\n",
       "      <td>36296113.0</td>\n",
       "      <td>28.93</td>\n",
       "    </tr>\n",
       "  </tbody>\n",
       "</table>\n",
       "</div>"
      ],
      "text/plain": [
       "                                         Zone  Année  \\\n",
       "0                                       Haïti   2017   \n",
       "1  République populaire démocratique de Corée   2017   \n",
       "2                                  Madagascar   2017   \n",
       "3                                     Libéria   2017   \n",
       "4                                     Lesotho   2017   \n",
       "5                                       Tchad   2017   \n",
       "6                                      Rwanda   2017   \n",
       "7                                  Mozambique   2017   \n",
       "8                                 Timor-Leste   2017   \n",
       "9                                 Afghanistan   2017   \n",
       "\n",
       "   Population en sous_nutrition  Population totale  Proportion sous_alimentée  \n",
       "0                     5300000.0         10982366.0                      48.26  \n",
       "1                    12000000.0         25429825.0                      47.19  \n",
       "2                    10500000.0         25570512.0                      41.06  \n",
       "3                     1800000.0          4702226.0                      38.28  \n",
       "4                      800000.0          2091534.0                      38.25  \n",
       "5                     5700000.0         15016753.0                      37.96  \n",
       "6                     4200000.0         11980961.0                      35.06  \n",
       "7                     9400000.0         28649018.0                      32.81  \n",
       "8                      400000.0          1243258.0                      32.17  \n",
       "9                    10500000.0         36296113.0                      28.93  "
      ]
     },
     "execution_count": 14,
     "metadata": {},
     "output_type": "execute_result"
    }
   ],
   "source": [
    "# Create a dataframe filtered by year '2017', sorted in descending order.\n",
    "proportion = snp.loc[snp['Année'] == 2017].sort_values('Proportion sous_alimentée', ascending=False).head(10).reset_index(drop=True)\n",
    "proportion"
   ]
  },
  {
   "cell_type": "markdown",
   "id": "d0abfbde",
   "metadata": {},
   "source": [
    "**We can see that the country with the highest proportion of undernourished people in 2017 was Haiti, with almost half of its population undernourished (48.26%), closely followed by North Korea with 47.19%, and then Madagascar with 41.06%. Furthermore, of the ten countries with the highest proportion of undernourished people, six are African and three are Asian.**"
   ]
  },
  {
   "cell_type": "markdown",
   "id": "c13985da",
   "metadata": {},
   "source": [
    "### Undernourishment proportion by country in relation to world population in 2017  <a class=\"anchor\" id=\"section1_2\"></a>"
   ]
  },
  {
   "cell_type": "code",
   "execution_count": 15,
   "id": "cf0c454a",
   "metadata": {
    "scrolled": true
   },
   "outputs": [],
   "source": [
    "# Create a global dataframe for the year 2017, which will be used to calculate the proportion of undernourished per country in relation to the global population\n",
    "prop_mondiale = snp.loc[snp['Année'] == 2017].sort_values('Proportion sous_alimentée', ascending=False)"
   ]
  },
  {
   "cell_type": "code",
   "execution_count": 16,
   "id": "275d2377",
   "metadata": {
    "scrolled": true
   },
   "outputs": [
    {
     "data": {
      "text/html": [
       "<div>\n",
       "<style scoped>\n",
       "    .dataframe tbody tr th:only-of-type {\n",
       "        vertical-align: middle;\n",
       "    }\n",
       "\n",
       "    .dataframe tbody tr th {\n",
       "        vertical-align: top;\n",
       "    }\n",
       "\n",
       "    .dataframe thead th {\n",
       "        text-align: right;\n",
       "    }\n",
       "</style>\n",
       "<table border=\"1\" class=\"dataframe\">\n",
       "  <thead>\n",
       "    <tr style=\"text-align: right;\">\n",
       "      <th></th>\n",
       "      <th>Zone</th>\n",
       "      <th>Année</th>\n",
       "      <th>Population en sous_nutrition</th>\n",
       "      <th>Population totale</th>\n",
       "      <th>Proportion sous_alimentée</th>\n",
       "      <th>Proportion mondialisée</th>\n",
       "    </tr>\n",
       "  </thead>\n",
       "  <tbody>\n",
       "    <tr>\n",
       "      <th>0</th>\n",
       "      <td>Inde</td>\n",
       "      <td>2017</td>\n",
       "      <td>190100000.0</td>\n",
       "      <td>1.338677e+09</td>\n",
       "      <td>14.20</td>\n",
       "      <td>2.52</td>\n",
       "    </tr>\n",
       "    <tr>\n",
       "      <th>1</th>\n",
       "      <td>Pakistan</td>\n",
       "      <td>2017</td>\n",
       "      <td>24800000.0</td>\n",
       "      <td>2.079062e+08</td>\n",
       "      <td>11.93</td>\n",
       "      <td>0.33</td>\n",
       "    </tr>\n",
       "    <tr>\n",
       "      <th>2</th>\n",
       "      <td>Indonésie</td>\n",
       "      <td>2017</td>\n",
       "      <td>23600000.0</td>\n",
       "      <td>2.646510e+08</td>\n",
       "      <td>8.92</td>\n",
       "      <td>0.31</td>\n",
       "    </tr>\n",
       "    <tr>\n",
       "      <th>3</th>\n",
       "      <td>Nigéria</td>\n",
       "      <td>2017</td>\n",
       "      <td>22800000.0</td>\n",
       "      <td>1.908732e+08</td>\n",
       "      <td>11.95</td>\n",
       "      <td>0.30</td>\n",
       "    </tr>\n",
       "    <tr>\n",
       "      <th>4</th>\n",
       "      <td>Bangladesh</td>\n",
       "      <td>2017</td>\n",
       "      <td>21500000.0</td>\n",
       "      <td>1.596854e+08</td>\n",
       "      <td>13.46</td>\n",
       "      <td>0.29</td>\n",
       "    </tr>\n",
       "    <tr>\n",
       "      <th>5</th>\n",
       "      <td>Éthiopie</td>\n",
       "      <td>2017</td>\n",
       "      <td>21100000.0</td>\n",
       "      <td>1.063999e+08</td>\n",
       "      <td>19.83</td>\n",
       "      <td>0.28</td>\n",
       "    </tr>\n",
       "    <tr>\n",
       "      <th>6</th>\n",
       "      <td>Philippines</td>\n",
       "      <td>2017</td>\n",
       "      <td>15700000.0</td>\n",
       "      <td>1.051729e+08</td>\n",
       "      <td>14.93</td>\n",
       "      <td>0.21</td>\n",
       "    </tr>\n",
       "    <tr>\n",
       "      <th>7</th>\n",
       "      <td>République-Unie de Tanzanie</td>\n",
       "      <td>2017</td>\n",
       "      <td>13400000.0</td>\n",
       "      <td>5.466034e+07</td>\n",
       "      <td>24.52</td>\n",
       "      <td>0.18</td>\n",
       "    </tr>\n",
       "    <tr>\n",
       "      <th>8</th>\n",
       "      <td>Kenya</td>\n",
       "      <td>2017</td>\n",
       "      <td>11900000.0</td>\n",
       "      <td>5.022114e+07</td>\n",
       "      <td>23.70</td>\n",
       "      <td>0.16</td>\n",
       "    </tr>\n",
       "    <tr>\n",
       "      <th>9</th>\n",
       "      <td>République populaire démocratique de Corée</td>\n",
       "      <td>2017</td>\n",
       "      <td>12000000.0</td>\n",
       "      <td>2.542982e+07</td>\n",
       "      <td>47.19</td>\n",
       "      <td>0.16</td>\n",
       "    </tr>\n",
       "  </tbody>\n",
       "</table>\n",
       "</div>"
      ],
      "text/plain": [
       "                                         Zone  Année  \\\n",
       "0                                        Inde   2017   \n",
       "1                                    Pakistan   2017   \n",
       "2                                   Indonésie   2017   \n",
       "3                                     Nigéria   2017   \n",
       "4                                  Bangladesh   2017   \n",
       "5                                    Éthiopie   2017   \n",
       "6                                 Philippines   2017   \n",
       "7                 République-Unie de Tanzanie   2017   \n",
       "8                                       Kenya   2017   \n",
       "9  République populaire démocratique de Corée   2017   \n",
       "\n",
       "   Population en sous_nutrition  Population totale  Proportion sous_alimentée  \\\n",
       "0                   190100000.0       1.338677e+09                      14.20   \n",
       "1                    24800000.0       2.079062e+08                      11.93   \n",
       "2                    23600000.0       2.646510e+08                       8.92   \n",
       "3                    22800000.0       1.908732e+08                      11.95   \n",
       "4                    21500000.0       1.596854e+08                      13.46   \n",
       "5                    21100000.0       1.063999e+08                      19.83   \n",
       "6                    15700000.0       1.051729e+08                      14.93   \n",
       "7                    13400000.0       5.466034e+07                      24.52   \n",
       "8                    11900000.0       5.022114e+07                      23.70   \n",
       "9                    12000000.0       2.542982e+07                      47.19   \n",
       "\n",
       "   Proportion mondialisée  \n",
       "0                    2.52  \n",
       "1                    0.33  \n",
       "2                    0.31  \n",
       "3                    0.30  \n",
       "4                    0.29  \n",
       "5                    0.28  \n",
       "6                    0.21  \n",
       "7                    0.18  \n",
       "8                    0.16  \n",
       "9                    0.16  "
      ]
     },
     "execution_count": 16,
     "metadata": {},
     "output_type": "execute_result"
    }
   ],
   "source": [
    "# Create a world population variable\n",
    "pop_mondiale = prop_mondiale['Population totale'].sum()\n",
    "\n",
    "# Create a copy that will be used to calculate the global proportion of undernourished people for each country\n",
    "proportion_du_pays = prop_mondiale.copy()\n",
    "\n",
    "# Add a new column with the result of the proportion of undernourished people per country in relation to the world population, rounded to two decimal places\n",
    "proportion_du_pays['Proportion mondialisée'] = round((proportion_du_pays['Population en sous_nutrition'] / pop_mondiale) * 100, 2)\n",
    "proportion_du_pays.sort_values('Proportion mondialisée', ascending=False).head(10).reset_index(drop=True)"
   ]
  },
  {
   "cell_type": "markdown",
   "id": "7194e6bb",
   "metadata": {},
   "source": [
    "**Here, if we put the countries on the same denominator, the world population, we find that India has the highest number of undernourished people with 2.52% of the world's population. India is ahead of Pakistan with 0.33% and Indonesia with 0.31%.\n",
    "Once again, the majority of countries in this ranking come from Asia (6) and Africa (4).**"
   ]
  },
  {
   "cell_type": "markdown",
   "id": "fc5d958e",
   "metadata": {},
   "source": [
    "### Undernourished people in the world in 2017 <a class=\"anchor\" id=\"section1_3\"></a>"
   ]
  },
  {
   "cell_type": "code",
   "execution_count": 17,
   "id": "5613a1bf",
   "metadata": {},
   "outputs": [
    {
     "name": "stdout",
     "output_type": "stream",
     "text": [
      "En 2017, le nombre total de personnes en sous-nutrition atteint 535700000.0 individus. Soit 7.1% de la population \n",
      "mondiale est en situation de sous-nutrition\n"
     ]
    }
   ],
   "source": [
    "# Create a variable to store the number of undernourished people in the world.\n",
    "nbr_sous_nutrition = prop_mondiale['Population en sous_nutrition'].sum()\n",
    "\n",
    "# Calculate the rate of undernourishment in the world\n",
    "taux_sous_nutrition = round(((prop_mondiale['Population en sous_nutrition'].sum())/pop_mondiale*100),2)\n",
    "print(f\"En 2017, le nombre total de personnes en sous-nutrition atteint {nbr_sous_nutrition} individus. Soit {taux_sous_nutrition}% de la population \\nmondiale est en situation de sous-nutrition\")"
   ]
  },
  {
   "cell_type": "markdown",
   "id": "d5acb66b",
   "metadata": {},
   "source": [
    "**As a reminder, India accounts for 2.52% of the 7.1%, or almost one in three undernourished people.**"
   ]
  },
  {
   "cell_type": "markdown",
   "id": "3e4a74ef",
   "metadata": {},
   "source": [
    "----------------------------------------------------------------------------------------------------------------------"
   ]
  },
  {
   "cell_type": "markdown",
   "id": "73ecaa14",
   "metadata": {},
   "source": [
    "## Food aid <a class=\"anchor\" id=\"chapitre2\"></a>"
   ]
  },
  {
   "cell_type": "code",
   "execution_count": 18,
   "id": "4db5319d",
   "metadata": {},
   "outputs": [],
   "source": [
    "# Import csv file\n",
    "aide = pd.read_csv('/Users/antoinebergounhe/Desktop/Openclassroom/Projet 4/DAN-P4-FAO/aide_alimentaire.csv')"
   ]
  },
  {
   "cell_type": "code",
   "execution_count": 19,
   "id": "c1a3c531",
   "metadata": {
    "scrolled": false
   },
   "outputs": [],
   "source": [
    "# Filter the dataframe by keeping the 'Cereales' and 'Non-cereales' rows in the 'Product' column.\n",
    "aide_totale = aide[aide['Produit'].isin(['Céréales','Non-céréales'])]"
   ]
  },
  {
   "cell_type": "code",
   "execution_count": 20,
   "id": "024465ea",
   "metadata": {
    "scrolled": true
   },
   "outputs": [],
   "source": [
    "# Create a new dataframe classified by the countries that received aid between 2013 and 2017.\n",
    "aide_finale = aide_totale.pivot_table(index='Pays bénéficiaire', columns='Produit', values='Valeur', aggfunc='sum')\n",
    "\n",
    "# The index is used to classify by country and indirectly to add up the rows for each country.\n",
    "aide_finale = aide_finale.reset_index()"
   ]
  },
  {
   "cell_type": "code",
   "execution_count": 21,
   "id": "c078d01d",
   "metadata": {},
   "outputs": [],
   "source": [
    "# Creation of a new column showing the total amount of aid, which facilitates the final calculation\n",
    "aide_finale['Total'] = aide_finale['Céréales']+aide_finale['Non-céréales']"
   ]
  },
  {
   "cell_type": "markdown",
   "id": "13d507bb",
   "metadata": {},
   "source": [
    "### The 10 countries receiving the most aid in the world between 2013 and 2017  <a class=\"anchor\" id=\"section2_1\"></a>"
   ]
  },
  {
   "cell_type": "code",
   "execution_count": 22,
   "id": "2edffe16",
   "metadata": {
    "scrolled": false
   },
   "outputs": [
    {
     "data": {
      "text/html": [
       "<div>\n",
       "<style scoped>\n",
       "    .dataframe tbody tr th:only-of-type {\n",
       "        vertical-align: middle;\n",
       "    }\n",
       "\n",
       "    .dataframe tbody tr th {\n",
       "        vertical-align: top;\n",
       "    }\n",
       "\n",
       "    .dataframe thead th {\n",
       "        text-align: right;\n",
       "    }\n",
       "</style>\n",
       "<table border=\"1\" class=\"dataframe\">\n",
       "  <thead>\n",
       "    <tr style=\"text-align: right;\">\n",
       "      <th>Produit</th>\n",
       "      <th>Pays bénéficiaire</th>\n",
       "      <th>Céréales</th>\n",
       "      <th>Non-céréales</th>\n",
       "      <th>Total</th>\n",
       "      <th>Pourcentage</th>\n",
       "    </tr>\n",
       "  </thead>\n",
       "  <tbody>\n",
       "    <tr>\n",
       "      <th>0</th>\n",
       "      <td>République arabe syrienne</td>\n",
       "      <td>625674.0</td>\n",
       "      <td>304244.0</td>\n",
       "      <td>929918.0</td>\n",
       "      <td>16.9</td>\n",
       "    </tr>\n",
       "    <tr>\n",
       "      <th>1</th>\n",
       "      <td>Éthiopie</td>\n",
       "      <td>607691.0</td>\n",
       "      <td>82956.0</td>\n",
       "      <td>690647.0</td>\n",
       "      <td>12.5</td>\n",
       "    </tr>\n",
       "    <tr>\n",
       "      <th>2</th>\n",
       "      <td>Yémen</td>\n",
       "      <td>491382.0</td>\n",
       "      <td>111860.0</td>\n",
       "      <td>603242.0</td>\n",
       "      <td>10.9</td>\n",
       "    </tr>\n",
       "    <tr>\n",
       "      <th>3</th>\n",
       "      <td>Soudan du Sud</td>\n",
       "      <td>310694.0</td>\n",
       "      <td>36930.0</td>\n",
       "      <td>347624.0</td>\n",
       "      <td>6.3</td>\n",
       "    </tr>\n",
       "    <tr>\n",
       "      <th>4</th>\n",
       "      <td>Soudan</td>\n",
       "      <td>291939.0</td>\n",
       "      <td>42953.0</td>\n",
       "      <td>334892.0</td>\n",
       "      <td>6.1</td>\n",
       "    </tr>\n",
       "    <tr>\n",
       "      <th>5</th>\n",
       "      <td>Kenya</td>\n",
       "      <td>231798.0</td>\n",
       "      <td>44620.0</td>\n",
       "      <td>276418.0</td>\n",
       "      <td>5.0</td>\n",
       "    </tr>\n",
       "    <tr>\n",
       "      <th>6</th>\n",
       "      <td>Bangladesh</td>\n",
       "      <td>165269.0</td>\n",
       "      <td>8825.0</td>\n",
       "      <td>174094.0</td>\n",
       "      <td>3.2</td>\n",
       "    </tr>\n",
       "    <tr>\n",
       "      <th>7</th>\n",
       "      <td>Somalie</td>\n",
       "      <td>119400.0</td>\n",
       "      <td>26939.0</td>\n",
       "      <td>146339.0</td>\n",
       "      <td>2.7</td>\n",
       "    </tr>\n",
       "    <tr>\n",
       "      <th>8</th>\n",
       "      <td>République démocratique du Congo</td>\n",
       "      <td>116038.0</td>\n",
       "      <td>28213.0</td>\n",
       "      <td>144251.0</td>\n",
       "      <td>2.6</td>\n",
       "    </tr>\n",
       "    <tr>\n",
       "      <th>9</th>\n",
       "      <td>Niger</td>\n",
       "      <td>115732.0</td>\n",
       "      <td>22440.0</td>\n",
       "      <td>138172.0</td>\n",
       "      <td>2.5</td>\n",
       "    </tr>\n",
       "  </tbody>\n",
       "</table>\n",
       "</div>"
      ],
      "text/plain": [
       "Produit                 Pays bénéficiaire  Céréales  Non-céréales     Total  \\\n",
       "0               République arabe syrienne  625674.0      304244.0  929918.0   \n",
       "1                                Éthiopie  607691.0       82956.0  690647.0   \n",
       "2                                   Yémen  491382.0      111860.0  603242.0   \n",
       "3                           Soudan du Sud  310694.0       36930.0  347624.0   \n",
       "4                                  Soudan  291939.0       42953.0  334892.0   \n",
       "5                                   Kenya  231798.0       44620.0  276418.0   \n",
       "6                              Bangladesh  165269.0        8825.0  174094.0   \n",
       "7                                 Somalie  119400.0       26939.0  146339.0   \n",
       "8        République démocratique du Congo  116038.0       28213.0  144251.0   \n",
       "9                                   Niger  115732.0       22440.0  138172.0   \n",
       "\n",
       "Produit  Pourcentage  \n",
       "0               16.9  \n",
       "1               12.5  \n",
       "2               10.9  \n",
       "3                6.3  \n",
       "4                6.1  \n",
       "5                5.0  \n",
       "6                3.2  \n",
       "7                2.7  \n",
       "8                2.6  \n",
       "9                2.5  "
      ]
     },
     "execution_count": 22,
     "metadata": {},
     "output_type": "execute_result"
    }
   ],
   "source": [
    "# Creation of a column showing the percentage of aid received as a share of total aid.\n",
    "aide_finale['Pourcentage']= round((aide_finale['Total']/aide_finale['Total'].sum())*100,1)\n",
    "\n",
    "# Sort by 'Total' in descending order\n",
    "aide_finale.sort_values('Total', ascending=False).head(10).reset_index(drop=True)"
   ]
  },
  {
   "cell_type": "markdown",
   "id": "c33f2b6e",
   "metadata": {},
   "source": [
    "**The countries with the highest rates of undernourishment are in Asia and Africa. Logically, this ranking includes seven African countries and one Asian country, but it also includes two countries in the Middle East. Among these Middle Eastern countries, Syria is the country that received the most aid in 2017, with 16.9% of global aid, and Yemen is in third place, with 10.9% of global aid.\n",
    "Surprisingly, there are only three countries with one of the highest numbers of undernourished people: Ethiopia, Kenya and Bangladesh.** "
   ]
  },
  {
   "cell_type": "markdown",
   "id": "6a857a00",
   "metadata": {},
   "source": [
    "### The 10 countries receiving the least aid between 2013 and 2017 <a class=\"anchor\" id=\"section2_2\"></a>"
   ]
  },
  {
   "cell_type": "code",
   "execution_count": 23,
   "id": "6d0d8fd3",
   "metadata": {
    "scrolled": true
   },
   "outputs": [
    {
     "data": {
      "text/html": [
       "<div>\n",
       "<style scoped>\n",
       "    .dataframe tbody tr th:only-of-type {\n",
       "        vertical-align: middle;\n",
       "    }\n",
       "\n",
       "    .dataframe tbody tr th {\n",
       "        vertical-align: top;\n",
       "    }\n",
       "\n",
       "    .dataframe thead th {\n",
       "        text-align: right;\n",
       "    }\n",
       "</style>\n",
       "<table border=\"1\" class=\"dataframe\">\n",
       "  <thead>\n",
       "    <tr style=\"text-align: right;\">\n",
       "      <th>Produit</th>\n",
       "      <th>Pays bénéficiaire</th>\n",
       "      <th>Céréales</th>\n",
       "      <th>Non-céréales</th>\n",
       "      <th>Total</th>\n",
       "      <th>Pourcentage</th>\n",
       "    </tr>\n",
       "  </thead>\n",
       "  <tbody>\n",
       "    <tr>\n",
       "      <th>0</th>\n",
       "      <td>Géorgie</td>\n",
       "      <td>6.0</td>\n",
       "      <td>29.0</td>\n",
       "      <td>35.0</td>\n",
       "      <td>0.0</td>\n",
       "    </tr>\n",
       "    <tr>\n",
       "      <th>1</th>\n",
       "      <td>Timor-Leste</td>\n",
       "      <td>22.0</td>\n",
       "      <td>36.0</td>\n",
       "      <td>58.0</td>\n",
       "      <td>0.0</td>\n",
       "    </tr>\n",
       "    <tr>\n",
       "      <th>2</th>\n",
       "      <td>Vanuatu</td>\n",
       "      <td>331.0</td>\n",
       "      <td>70.0</td>\n",
       "      <td>401.0</td>\n",
       "      <td>0.0</td>\n",
       "    </tr>\n",
       "    <tr>\n",
       "      <th>3</th>\n",
       "      <td>Chine, continentale</td>\n",
       "      <td>649.0</td>\n",
       "      <td>0.0</td>\n",
       "      <td>649.0</td>\n",
       "      <td>0.0</td>\n",
       "    </tr>\n",
       "    <tr>\n",
       "      <th>4</th>\n",
       "      <td>Équateur</td>\n",
       "      <td>345.0</td>\n",
       "      <td>336.0</td>\n",
       "      <td>681.0</td>\n",
       "      <td>0.0</td>\n",
       "    </tr>\n",
       "    <tr>\n",
       "      <th>5</th>\n",
       "      <td>Sao Tomé-et-Principe</td>\n",
       "      <td>708.0</td>\n",
       "      <td>205.0</td>\n",
       "      <td>913.0</td>\n",
       "      <td>0.0</td>\n",
       "    </tr>\n",
       "    <tr>\n",
       "      <th>6</th>\n",
       "      <td>Tadjikistan</td>\n",
       "      <td>224.0</td>\n",
       "      <td>790.0</td>\n",
       "      <td>1014.0</td>\n",
       "      <td>0.0</td>\n",
       "    </tr>\n",
       "    <tr>\n",
       "      <th>7</th>\n",
       "      <td>Bhoutan</td>\n",
       "      <td>537.0</td>\n",
       "      <td>796.0</td>\n",
       "      <td>1333.0</td>\n",
       "      <td>0.0</td>\n",
       "    </tr>\n",
       "    <tr>\n",
       "      <th>8</th>\n",
       "      <td>Zambie</td>\n",
       "      <td>1349.0</td>\n",
       "      <td>164.0</td>\n",
       "      <td>1513.0</td>\n",
       "      <td>0.0</td>\n",
       "    </tr>\n",
       "    <tr>\n",
       "      <th>9</th>\n",
       "      <td>Iraq</td>\n",
       "      <td>604.0</td>\n",
       "      <td>1195.0</td>\n",
       "      <td>1799.0</td>\n",
       "      <td>0.0</td>\n",
       "    </tr>\n",
       "  </tbody>\n",
       "</table>\n",
       "</div>"
      ],
      "text/plain": [
       "Produit     Pays bénéficiaire  Céréales  Non-céréales   Total  Pourcentage\n",
       "0                     Géorgie       6.0          29.0    35.0          0.0\n",
       "1                 Timor-Leste      22.0          36.0    58.0          0.0\n",
       "2                     Vanuatu     331.0          70.0   401.0          0.0\n",
       "3         Chine, continentale     649.0           0.0   649.0          0.0\n",
       "4                    Équateur     345.0         336.0   681.0          0.0\n",
       "5        Sao Tomé-et-Principe     708.0         205.0   913.0          0.0\n",
       "6                 Tadjikistan     224.0         790.0  1014.0          0.0\n",
       "7                     Bhoutan     537.0         796.0  1333.0          0.0\n",
       "8                      Zambie    1349.0         164.0  1513.0          0.0\n",
       "9                        Iraq     604.0        1195.0  1799.0          0.0"
      ]
     },
     "execution_count": 23,
     "metadata": {},
     "output_type": "execute_result"
    }
   ],
   "source": [
    "# Ranking of countries receiving the least aid between 2013 and 2017\n",
    "aide_finale.sort_values('Total', ascending=True).head(10).reset_index(drop=True)"
   ]
  },
  {
   "cell_type": "markdown",
   "id": "6a97496a",
   "metadata": {},
   "source": [
    "**The presence of certain countries can be explained by the size of their population. Vanuatu, Sao Tome and Principe and Bhutan have populations of less than one million, while Timor-Leste has a population of around 1.2 million. Timor-Leste is also the only country in this ranking to appear among the 10 countries with the highest undernourishment rate (32.17%). The country also received 58 tonnes of food aid between 2013 and 2017.**"
   ]
  },
  {
   "cell_type": "markdown",
   "id": "87b0fad5",
   "metadata": {},
   "source": [
    "----------------------------------------------------------------------------------------------------------------------"
   ]
  },
  {
   "cell_type": "markdown",
   "id": "6e3cc3d1",
   "metadata": {},
   "source": [
    "## Food availability <a class=\"anchor\" id=\"chapitre3\"></a>"
   ]
  },
  {
   "cell_type": "code",
   "execution_count": 24,
   "id": "a5154d21",
   "metadata": {},
   "outputs": [],
   "source": [
    "# Import csv file\n",
    "dispo_alim = pd.read_csv('/Users/antoinebergounhe/Desktop/Openclassroom/Projet 4/DAN-P4-FAO/dispo_alimentaire.csv')"
   ]
  },
  {
   "cell_type": "code",
   "execution_count": 25,
   "id": "1ad03c8d",
   "metadata": {},
   "outputs": [],
   "source": [
    "# Replace 'NaN' values with O\n",
    "dispo_alim = dispo_alim.fillna(0)"
   ]
  },
  {
   "cell_type": "code",
   "execution_count": 26,
   "id": "fbba96ad",
   "metadata": {},
   "outputs": [],
   "source": [
    "# Sort dataframe by country with sum of food availability\n",
    "dispoKcal = dispo_alim.groupby(['Zone'])['Disponibilité alimentaire (Kcal/personne/jour)'].sum().reset_index()"
   ]
  },
  {
   "cell_type": "markdown",
   "id": "0fbc15a9",
   "metadata": {},
   "source": [
    "### The 10 countries with the highest food availability in calories per person per day <a class=\"anchor\" id=\"section3_1\"></a>"
   ]
  },
  {
   "cell_type": "code",
   "execution_count": 27,
   "id": "09a3d2d6",
   "metadata": {},
   "outputs": [
    {
     "data": {
      "text/html": [
       "<div>\n",
       "<style scoped>\n",
       "    .dataframe tbody tr th:only-of-type {\n",
       "        vertical-align: middle;\n",
       "    }\n",
       "\n",
       "    .dataframe tbody tr th {\n",
       "        vertical-align: top;\n",
       "    }\n",
       "\n",
       "    .dataframe thead th {\n",
       "        text-align: right;\n",
       "    }\n",
       "</style>\n",
       "<table border=\"1\" class=\"dataframe\">\n",
       "  <thead>\n",
       "    <tr style=\"text-align: right;\">\n",
       "      <th></th>\n",
       "      <th>Zone</th>\n",
       "      <th>Disponibilité alimentaire (Kcal/personne/jour)</th>\n",
       "    </tr>\n",
       "  </thead>\n",
       "  <tbody>\n",
       "    <tr>\n",
       "      <th>0</th>\n",
       "      <td>Autriche</td>\n",
       "      <td>3770.0</td>\n",
       "    </tr>\n",
       "    <tr>\n",
       "      <th>1</th>\n",
       "      <td>Belgique</td>\n",
       "      <td>3737.0</td>\n",
       "    </tr>\n",
       "    <tr>\n",
       "      <th>2</th>\n",
       "      <td>Turquie</td>\n",
       "      <td>3708.0</td>\n",
       "    </tr>\n",
       "    <tr>\n",
       "      <th>3</th>\n",
       "      <td>États-Unis d'Amérique</td>\n",
       "      <td>3682.0</td>\n",
       "    </tr>\n",
       "    <tr>\n",
       "      <th>4</th>\n",
       "      <td>Israël</td>\n",
       "      <td>3610.0</td>\n",
       "    </tr>\n",
       "    <tr>\n",
       "      <th>5</th>\n",
       "      <td>Irlande</td>\n",
       "      <td>3602.0</td>\n",
       "    </tr>\n",
       "    <tr>\n",
       "      <th>6</th>\n",
       "      <td>Italie</td>\n",
       "      <td>3578.0</td>\n",
       "    </tr>\n",
       "    <tr>\n",
       "      <th>7</th>\n",
       "      <td>Luxembourg</td>\n",
       "      <td>3540.0</td>\n",
       "    </tr>\n",
       "    <tr>\n",
       "      <th>8</th>\n",
       "      <td>Égypte</td>\n",
       "      <td>3518.0</td>\n",
       "    </tr>\n",
       "    <tr>\n",
       "      <th>9</th>\n",
       "      <td>Allemagne</td>\n",
       "      <td>3503.0</td>\n",
       "    </tr>\n",
       "  </tbody>\n",
       "</table>\n",
       "</div>"
      ],
      "text/plain": [
       "                    Zone  Disponibilité alimentaire (Kcal/personne/jour)\n",
       "0               Autriche                                          3770.0\n",
       "1               Belgique                                          3737.0\n",
       "2                Turquie                                          3708.0\n",
       "3  États-Unis d'Amérique                                          3682.0\n",
       "4                 Israël                                          3610.0\n",
       "5                Irlande                                          3602.0\n",
       "6                 Italie                                          3578.0\n",
       "7             Luxembourg                                          3540.0\n",
       "8                 Égypte                                          3518.0\n",
       "9              Allemagne                                          3503.0"
      ]
     },
     "execution_count": 27,
     "metadata": {},
     "output_type": "execute_result"
    }
   ],
   "source": [
    "# Ranking of countries with highest food availability in calories per person per day\n",
    "dispoKcal.sort_values('Disponibilité alimentaire (Kcal/personne/jour)', ascending=False).head(10).reset_index(drop=True)"
   ]
  },
  {
   "cell_type": "markdown",
   "id": "40e81458",
   "metadata": {},
   "source": [
    "**The three countries with the highest food availability in calories are Austria (3770 calories per person per day), Belgium (3737 calories) and Turkey (3708 calories). Of the ten countries with the highest food availability, six are in Europe, three in the Middle East/Africa and the United States of America.**"
   ]
  },
  {
   "cell_type": "markdown",
   "id": "b740e428",
   "metadata": {},
   "source": [
    "### The 10 countries with the lowest food availability in calories per person per day <a class=\"anchor\" id=\"section3_2\"></a>"
   ]
  },
  {
   "cell_type": "code",
   "execution_count": 28,
   "id": "cfa56c55",
   "metadata": {
    "scrolled": false
   },
   "outputs": [
    {
     "data": {
      "text/html": [
       "<div>\n",
       "<style scoped>\n",
       "    .dataframe tbody tr th:only-of-type {\n",
       "        vertical-align: middle;\n",
       "    }\n",
       "\n",
       "    .dataframe tbody tr th {\n",
       "        vertical-align: top;\n",
       "    }\n",
       "\n",
       "    .dataframe thead th {\n",
       "        text-align: right;\n",
       "    }\n",
       "</style>\n",
       "<table border=\"1\" class=\"dataframe\">\n",
       "  <thead>\n",
       "    <tr style=\"text-align: right;\">\n",
       "      <th></th>\n",
       "      <th>Zone</th>\n",
       "      <th>Disponibilité alimentaire (Kcal/personne/jour)</th>\n",
       "    </tr>\n",
       "  </thead>\n",
       "  <tbody>\n",
       "    <tr>\n",
       "      <th>0</th>\n",
       "      <td>République centrafricaine</td>\n",
       "      <td>1879.0</td>\n",
       "    </tr>\n",
       "    <tr>\n",
       "      <th>1</th>\n",
       "      <td>Zambie</td>\n",
       "      <td>1924.0</td>\n",
       "    </tr>\n",
       "    <tr>\n",
       "      <th>2</th>\n",
       "      <td>Madagascar</td>\n",
       "      <td>2056.0</td>\n",
       "    </tr>\n",
       "    <tr>\n",
       "      <th>3</th>\n",
       "      <td>Afghanistan</td>\n",
       "      <td>2087.0</td>\n",
       "    </tr>\n",
       "    <tr>\n",
       "      <th>4</th>\n",
       "      <td>Haïti</td>\n",
       "      <td>2089.0</td>\n",
       "    </tr>\n",
       "    <tr>\n",
       "      <th>5</th>\n",
       "      <td>République populaire démocratique de Corée</td>\n",
       "      <td>2093.0</td>\n",
       "    </tr>\n",
       "    <tr>\n",
       "      <th>6</th>\n",
       "      <td>Tchad</td>\n",
       "      <td>2109.0</td>\n",
       "    </tr>\n",
       "    <tr>\n",
       "      <th>7</th>\n",
       "      <td>Zimbabwe</td>\n",
       "      <td>2113.0</td>\n",
       "    </tr>\n",
       "    <tr>\n",
       "      <th>8</th>\n",
       "      <td>Ouganda</td>\n",
       "      <td>2126.0</td>\n",
       "    </tr>\n",
       "    <tr>\n",
       "      <th>9</th>\n",
       "      <td>Timor-Leste</td>\n",
       "      <td>2129.0</td>\n",
       "    </tr>\n",
       "  </tbody>\n",
       "</table>\n",
       "</div>"
      ],
      "text/plain": [
       "                                         Zone  \\\n",
       "0                   République centrafricaine   \n",
       "1                                      Zambie   \n",
       "2                                  Madagascar   \n",
       "3                                 Afghanistan   \n",
       "4                                       Haïti   \n",
       "5  République populaire démocratique de Corée   \n",
       "6                                       Tchad   \n",
       "7                                    Zimbabwe   \n",
       "8                                     Ouganda   \n",
       "9                                 Timor-Leste   \n",
       "\n",
       "   Disponibilité alimentaire (Kcal/personne/jour)  \n",
       "0                                          1879.0  \n",
       "1                                          1924.0  \n",
       "2                                          2056.0  \n",
       "3                                          2087.0  \n",
       "4                                          2089.0  \n",
       "5                                          2093.0  \n",
       "6                                          2109.0  \n",
       "7                                          2113.0  \n",
       "8                                          2126.0  \n",
       "9                                          2129.0  "
      ]
     },
     "execution_count": 28,
     "metadata": {},
     "output_type": "execute_result"
    }
   ],
   "source": [
    "# Rank countries with lowest food availability in calories per person per day\n",
    "dispoKcal.sort_values('Disponibilité alimentaire (Kcal/personne/jour)', ascending=True).head(10).reset_index(drop=True)"
   ]
  },
  {
   "cell_type": "markdown",
   "id": "f20125e9",
   "metadata": {},
   "source": [
    "**We see that the country with the lowest food availability is the Central African Republic, with 1879 calories per person per day, half that of Austria. Logically, the countries with the lowest food availability include those with high levels of malnutrition, such as Madagascar, Timor-Leste, Afghanistan, North Korea, Haiti and Chad.\n",
    "Most of the countries in this ranking are on the African continent.**"
   ]
  },
  {
   "cell_type": "markdown",
   "id": "59133346",
   "metadata": {},
   "source": [
    "----------------------------------------------------------------------------------------------------------------------"
   ]
  },
  {
   "cell_type": "markdown",
   "id": "214ed684",
   "metadata": {},
   "source": [
    "## World capacity <a class=\"anchor\" id=\"chapitre4\"></a>"
   ]
  },
  {
   "cell_type": "markdown",
   "id": "eec0c226",
   "metadata": {},
   "source": [
    "### Theoretical number of people in the world who could be fed daily<a class=\"anchor\" id=\"section4_1\"></a>"
   ]
  },
  {
   "cell_type": "code",
   "execution_count": 29,
   "id": "bacdefee",
   "metadata": {},
   "outputs": [],
   "source": [
    "# Creation of a new dataframe combining food availability and population for 2013\n",
    "dispo_mondiale = pd.merge(dispoKcal,pop_2013, on='Zone', how='right')"
   ]
  },
  {
   "cell_type": "code",
   "execution_count": 30,
   "id": "c74ca15e",
   "metadata": {},
   "outputs": [],
   "source": [
    "# Replaced 'NaN' values with O\n",
    "dispo_mondiale = dispo_mondiale.fillna(0)"
   ]
  },
  {
   "cell_type": "code",
   "execution_count": 31,
   "id": "049b1e6c",
   "metadata": {
    "scrolled": true
   },
   "outputs": [],
   "source": [
    "# Created a new column with food availability in calories per day per country\n",
    "dispo_mondiale['dispo Kcal/jour'] = dispo_mondiale['Disponibilité alimentaire (Kcal/personne/jour)']*dispo_mondiale['Valeur']"
   ]
  },
  {
   "cell_type": "code",
   "execution_count": 32,
   "id": "fbb96503",
   "metadata": {},
   "outputs": [
    {
     "name": "stdout",
     "output_type": "stream",
     "text": [
      "En 2013, sur une base de 2500 calories par jour le nombre théorique de personnes qui pourraient être nourries \n",
      "s'élèvent à 8017745251.0 personnes par jour, soit une capacité à nourrir 111.19% de la population mondiale par jour\n"
     ]
    }
   ],
   "source": [
    "# Calculated the theoretical number of people in the world that could be fed per day, stored in a variable\n",
    "disponibilité_mondiale_jour = round((dispo_mondiale['dispo Kcal/jour'].sum()/2500),0)\n",
    "\n",
    "# Calculate the percentage of the theoretical number of people in the world that can be fed per day, stored in another variable\n",
    "taux_mondiale_jour = round(((dispo_mondiale['dispo Kcal/jour'].sum()/2500)/(dispo_mondiale['Valeur'].sum()))*100,2)\n",
    "print(f\"En 2013, sur une base de 2500 calories par jour le nombre théorique de personnes qui pourraient être nourries \\ns'élèvent à {disponibilité_mondiale_jour} personnes par jour, soit une capacité à nourrir {taux_mondiale_jour}% de la population mondiale par jour\")"
   ]
  },
  {
   "cell_type": "markdown",
   "id": "06cdf9fb",
   "metadata": {},
   "source": [
    "**Now, if we keep the same base of calories per day, 2500. We can see that we could feed more people than the world's population. However, one in four countries has a calorie deficit and the undernourishment rate is 7.1%.**"
   ]
  },
  {
   "cell_type": "markdown",
   "id": "7c174de2",
   "metadata": {},
   "source": [
    "### Theoretical number of people in the world who could be fed daily with plant-based product <a class=\"anchor\" id=\"section4_2\"></a>"
   ]
  },
  {
   "cell_type": "code",
   "execution_count": 33,
   "id": "8574aa19",
   "metadata": {},
   "outputs": [],
   "source": [
    "# Create a dataframe sorted by plant-based products and their food availability by country\n",
    "dispoVegetal = dispo_alim.loc[dispo_alim['Origine'] == 'vegetale'].groupby('Zone')['Disponibilité alimentaire (Kcal/personne/jour)'].sum().reset_index()"
   ]
  },
  {
   "cell_type": "code",
   "execution_count": 34,
   "id": "debcbac3",
   "metadata": {},
   "outputs": [],
   "source": [
    "# Create a dataframe combining the dataframe created above and the population per country in 2013\n",
    "dispo_vege_mondial = pd.merge(dispoVegetal,pop_2013, on='Zone', how='right')"
   ]
  },
  {
   "cell_type": "code",
   "execution_count": 35,
   "id": "8da1b16f",
   "metadata": {},
   "outputs": [],
   "source": [
    "# Replace the value 'NaN' with 0\n",
    "dispo_vege_mondial = dispo_vege_mondial.fillna(0)"
   ]
  },
  {
   "cell_type": "code",
   "execution_count": 36,
   "id": "ad006f48",
   "metadata": {},
   "outputs": [],
   "source": [
    "# Create a new column with the food availability in calories per day per country\n",
    "dispo_vege_mondial['dispo Kcal/jour'] = dispo_vege_mondial['Disponibilité alimentaire (Kcal/personne/jour)']*dispo_vege_mondial['Valeur']"
   ]
  },
  {
   "cell_type": "code",
   "execution_count": 37,
   "id": "514ee6a4",
   "metadata": {},
   "outputs": [
    {
     "name": "stdout",
     "output_type": "stream",
     "text": [
      "In 2013, based on 2500 calories per day, the theoretical number of people who could be fed exclusively on plant-based foods was 6602669561.0 people per day, or 91.57% of the world's population.\n"
     ]
    }
   ],
   "source": [
    "# Calculate the theoretical number of people in the world that could be fed plant-based products daily, stored in a variable\n",
    "disponibilité_vege_mondiale_jour = round((dispo_vege_mondial['dispo Kcal/jour'].sum()/2500),0)\n",
    "\n",
    "# Calculate the percentage of the theoretical number of people in the world that could be fed daily with plant-based products, stored in another variable\n",
    "taux_vege_mondiale_jour = round(((dispo_vege_mondial['dispo Kcal/jour'].sum()/2500)/(dispo_vege_mondial['Valeur'].sum()))*100,2)\n",
    "print(f\"In 2013, based on 2500 calories per day, the theoretical number of people who could be fed exclusively on plant-based foods was {disponibilité_vege_mondiale_jour} people per day, or {taux_vege_mondiale_jour}% of the world's population.\")"
   ]
  },
  {
   "cell_type": "markdown",
   "id": "8887acef",
   "metadata": {},
   "source": [
    "----------------------------------------------------------------------------------------------------------------------"
   ]
  },
  {
   "cell_type": "markdown",
   "id": "4c0c6611",
   "metadata": {},
   "source": [
    "## Internal availability and its distribution <a class=\"anchor\" id=\"chapitre5\"></a>"
   ]
  },
  {
   "cell_type": "code",
   "execution_count": 38,
   "id": "9329fd06",
   "metadata": {},
   "outputs": [],
   "source": [
    "# Create a dataframe sorted by country with the columns we are interested in\n",
    "disporepart = dispo_alim.groupby(['Zone'])[['Disponibilité intérieure', 'Aliments pour animaux', 'Autres Utilisations', 'Nourriture', 'Pertes', 'Semences', 'Traitement']].sum().reset_index()"
   ]
  },
  {
   "cell_type": "code",
   "execution_count": 39,
   "id": "10e3b577",
   "metadata": {},
   "outputs": [],
   "source": [
    "# Create a list of the columns that will be used to calculate the percentages\n",
    "liste = ['Aliments pour animaux', 'Autres Utilisations', 'Nourriture', 'Pertes', 'Semences', 'Traitement']\n",
    "\n",
    "# Create a loop that takes the columns in the list and calculates the percentages of each column in relation to internal availability\n",
    "for col in liste:\n",
    "    \n",
    "    # Use the fstring to name these new columns\n",
    "    disporepart[f\"Part {col}\"] = round((disporepart[col]/disporepart['Disponibilité intérieure'])*100,0)"
   ]
  },
  {
   "cell_type": "markdown",
   "id": "698f83da",
   "metadata": {},
   "source": [
    "### Repartition rates of internal availability in the world <a class=\"anchor\" id=\"section5_1\"></a>"
   ]
  },
  {
   "cell_type": "code",
   "execution_count": 40,
   "id": "43c81119",
   "metadata": {},
   "outputs": [
    {
     "name": "stdout",
     "output_type": "stream",
     "text": [
      "In 2013, at the global level, the proportion of food allocated to animal feed was 13.0%, the waste rate was 5.0% and the proportion allocated to human food was 50.0%.\n"
     ]
    }
   ],
   "source": [
    "# Create a 'for' loop to calculate the rate for the three columns involved\n",
    "# The string is created using the 'part_...' variables\n",
    "for col in ['Aliments pour animaux', 'Pertes', 'Nourriture']:\n",
    "    part = round((disporepart[col].sum() / disporepart['Disponibilité intérieure'].sum()) * 100, 0)\n",
    "    if col == 'Aliments pour animaux':\n",
    "        part_animaux = part\n",
    "    elif col == 'Pertes':\n",
    "        part_pertes = part\n",
    "    elif col == 'Nourriture':\n",
    "        part_humains = part\n",
    "       \n",
    "print(f\"In 2013, at the global level, the proportion of food allocated to animal feed was {part_animaux}%, the waste rate was {part_pertes}% and the proportion allocated to human food was {part_humains}%.\")"
   ]
  },
  {
   "cell_type": "markdown",
   "id": "b599500b",
   "metadata": {},
   "source": [
    "### Repartition rates of internal availability of cereals <a class=\"anchor\" id=\"section5_2\"></a>"
   ]
  },
  {
   "cell_type": "code",
   "execution_count": 41,
   "id": "db8aff4c",
   "metadata": {},
   "outputs": [],
   "source": [
    "# Create a list of all the grains to use as a 'filter'\n",
    "liste_céréales=['Avoine', 'Blé', 'Céréales, Autres', 'Maïs', 'Millet', 'Orge', 'Riz (Eq Blanchi)', 'Seigle', 'Sorgho']"
   ]
  },
  {
   "cell_type": "code",
   "execution_count": 42,
   "id": "859bd567",
   "metadata": {},
   "outputs": [],
   "source": [
    "# Create a dataframe that keeps the values in the cereal list in the 'Product' column\n",
    "dispo_céréales=dispo_alim[dispo_alim['Produit'].isin(liste_céréales)]\n",
    "dispo_céréales=dispo_céréales.groupby(by='Zone')[['Aliments pour animaux', 'Autres Utilisations', 'Disponibilité intérieure','Nourriture', 'Pertes', 'Semences', 'Traitement']].sum().reset_index()"
   ]
  },
  {
   "cell_type": "code",
   "execution_count": 43,
   "id": "854ab856",
   "metadata": {},
   "outputs": [],
   "source": [
    "# Create a list to be used in a 'for' loop\n",
    "liste2 = ['Aliments pour animaux', 'Autres Utilisations', 'Nourriture', 'Pertes', 'Semences', 'Traitement']\n",
    "\n",
    "# Create a loop that calculates the percentage for all columns in the list in relation to internal availability\n",
    "for column in liste2:\n",
    "    dispo_céréales[f\"Part {column}\"] = round((dispo_céréales[column]/dispo_céréales['Disponibilité intérieure'])*100,0)"
   ]
  },
  {
   "cell_type": "code",
   "execution_count": 44,
   "id": "0f984c69",
   "metadata": {},
   "outputs": [
    {
     "name": "stdout",
     "output_type": "stream",
     "text": [
      "In 2013, global cereal use was distributed as follows: the share of cereals used for animal feed was 36.0%, the share of cereals lost was 4.0%, and the share used for human food was 43.0%.\n"
     ]
    }
   ],
   "source": [
    "# Create a 'for' loop to calculate the rate for the three columns concerned\n",
    "for col in ['Aliments pour animaux', 'Pertes', 'Nourriture']:\n",
    "    \n",
    "    # The loop will calculate each rate at each iteration and store the result in the appropriate variable\n",
    "    part = round((dispo_céréales[col].sum() / dispo_céréales['Disponibilité intérieure'].sum()) * 100, 0)\n",
    "    \n",
    "    # The string is created using the 'part_...' variables.\n",
    "    if col == 'Aliments pour animaux':\n",
    "        part_animaux = part\n",
    "    elif col == 'Pertes':\n",
    "        part_pertes = part\n",
    "    elif col == 'Nourriture':\n",
    "        part_humains = part\n",
    "       \n",
    "print(f\"In 2013, global cereal use was distributed as follows: the share of cereals used for animal feed was {part_animaux}%, the share of cereals lost was {part_pertes}%, and the share used for human food was {part_humains}%.\")"
   ]
  },
  {
   "cell_type": "markdown",
   "id": "d080a06b",
   "metadata": {},
   "source": [
    "----------------------------------------------------------------------------------------------------------------------"
   ]
  },
  {
   "cell_type": "markdown",
   "id": "7c35bb10",
   "metadata": {},
   "source": [
    "## Thailand's use of cassava <a class=\"anchor\" id=\"chapitre6\"></a>"
   ]
  },
  {
   "cell_type": "code",
   "execution_count": 45,
   "id": "d4e55b76",
   "metadata": {},
   "outputs": [],
   "source": [
    "# Use the 'dispo_alim' dataframe already created, filtered to select only cassava in Thailand\n",
    "manioc=dispo_alim.loc[dispo_alim['Produit']=='Manioc'].loc[dispo_alim['Zone']=='Thaïlande']"
   ]
  },
  {
   "cell_type": "code",
   "execution_count": 46,
   "id": "eac5e330",
   "metadata": {},
   "outputs": [],
   "source": [
    "# Create a dataframe that merges the 'manioc' and 'snp' dataframes\n",
    "# This merge will provide all data related to the use of cassava in Thailand\n",
    "thai_manioc = pd.merge(manioc,snp, on=['Zone'])\n",
    "thai_manioc= thai_manioc.loc[thai_manioc['Année']==2013]"
   ]
  },
  {
   "cell_type": "code",
   "execution_count": 47,
   "id": "fb6b4a07",
   "metadata": {},
   "outputs": [],
   "source": [
    "# Create a dataframe with all the data for Thailand that are in the 'dispo_alim' dataframe\n",
    "# This dataframe will be useful for calculating the share of cassava production in the country's total production\n",
    "prod_thailande=dispo_alim.loc[dispo_alim['Zone']=='Thaïlande']"
   ]
  },
  {
   "cell_type": "code",
   "execution_count": 48,
   "id": "dd657181",
   "metadata": {},
   "outputs": [
    {
     "name": "stdout",
     "output_type": "stream",
     "text": [
      "In 2013, cassava accounted for 14.98% of Thailand's food production. n\\Moreover, with 83.41% of production exported, cassava makes up 50.0% of the country's exports.\n"
     ]
    }
   ],
   "source": [
    "# Calculation of the percentage of cassava consumption\n",
    "part_manioc = round((thai_manioc['Production']/(prod_thailande['Production'].sum()))*100,2)\n",
    "\n",
    "part_export_manioc = round((thai_manioc['Exportations - Quantité']/(prod_thailande['Exportations - Quantité'].sum()))*100,2)\n",
    "\n",
    "taux_prod_export = round((thai_manioc['Exportations - Quantité']/thai_manioc['Production'])*100,2)\n",
    "\n",
    "print(f\"In 2013, cassava accounted for {float(part_manioc)}% of Thailand's food production. n\\Moreover, with {float(taux_prod_export)}% of production exported, cassava makes up {float(part_export_manioc)}% of the country's exports.\")"
   ]
  },
  {
   "cell_type": "markdown",
   "id": "97ebd17a",
   "metadata": {},
   "source": [
    "----------------------------------------------------------------------------------------------------------------------"
   ]
  },
  {
   "cell_type": "markdown",
   "id": "f7ec3c38",
   "metadata": {},
   "source": [
    "## Evolution of undernourishment between 2013 and 2017 <a class=\"anchor\" id=\"chapitre7\"></a>"
   ]
  },
  {
   "cell_type": "code",
   "execution_count": 49,
   "id": "bb661e1c",
   "metadata": {},
   "outputs": [],
   "source": [
    "# Create a dataframe with the 'snp' dataframe (under nutrition and population) filtered by the years '2013' and '2017'\n",
    "diff_sn= snp.loc[snp['Année'].isin([2013, 2017])]"
   ]
  },
  {
   "cell_type": "code",
   "execution_count": 50,
   "id": "7f9d2bbe",
   "metadata": {},
   "outputs": [],
   "source": [
    "# Create a double-entry table from the created dataframe.\n",
    "# The table will be sorted by country, the columns will be '2013' and '2017', the values will be the undernourishment rate per year per country\n",
    "diff_sous_nut = diff_sn.pivot(index='Zone', columns='Année', values='Proportion sous_alimentée')"
   ]
  },
  {
   "cell_type": "markdown",
   "id": "08be4004",
   "metadata": {},
   "source": [
    "### The 10 countries with the highest increase in undernourishment rates <a class=\"anchor\" id=\"section7_1\"></a>"
   ]
  },
  {
   "cell_type": "code",
   "execution_count": 51,
   "id": "ea96a2ed",
   "metadata": {},
   "outputs": [
    {
     "data": {
      "text/html": [
       "<div>\n",
       "<style scoped>\n",
       "    .dataframe tbody tr th:only-of-type {\n",
       "        vertical-align: middle;\n",
       "    }\n",
       "\n",
       "    .dataframe tbody tr th {\n",
       "        vertical-align: top;\n",
       "    }\n",
       "\n",
       "    .dataframe thead th {\n",
       "        text-align: right;\n",
       "    }\n",
       "</style>\n",
       "<table border=\"1\" class=\"dataframe\">\n",
       "  <thead>\n",
       "    <tr style=\"text-align: right;\">\n",
       "      <th>Année</th>\n",
       "      <th>2013</th>\n",
       "      <th>2017</th>\n",
       "      <th>Évolution</th>\n",
       "    </tr>\n",
       "    <tr>\n",
       "      <th>Zone</th>\n",
       "      <th></th>\n",
       "      <th></th>\n",
       "      <th></th>\n",
       "    </tr>\n",
       "  </thead>\n",
       "  <tbody>\n",
       "    <tr>\n",
       "      <th>Lesotho</th>\n",
       "      <td>14.79</td>\n",
       "      <td>38.25</td>\n",
       "      <td>23.46</td>\n",
       "    </tr>\n",
       "    <tr>\n",
       "      <th>Venezuela (République bolivarienne du)</th>\n",
       "      <td>4.70</td>\n",
       "      <td>27.21</td>\n",
       "      <td>22.51</td>\n",
       "    </tr>\n",
       "    <tr>\n",
       "      <th>Mozambique</th>\n",
       "      <td>23.08</td>\n",
       "      <td>32.81</td>\n",
       "      <td>9.73</td>\n",
       "    </tr>\n",
       "    <tr>\n",
       "      <th>Rwanda</th>\n",
       "      <td>25.90</td>\n",
       "      <td>35.06</td>\n",
       "      <td>9.16</td>\n",
       "    </tr>\n",
       "    <tr>\n",
       "      <th>Eswatini</th>\n",
       "      <td>9.20</td>\n",
       "      <td>17.78</td>\n",
       "      <td>8.58</td>\n",
       "    </tr>\n",
       "    <tr>\n",
       "      <th>Madagascar</th>\n",
       "      <td>33.10</td>\n",
       "      <td>41.06</td>\n",
       "      <td>7.96</td>\n",
       "    </tr>\n",
       "    <tr>\n",
       "      <th>République populaire démocratique de Corée</th>\n",
       "      <td>41.32</td>\n",
       "      <td>47.19</td>\n",
       "      <td>5.87</td>\n",
       "    </tr>\n",
       "    <tr>\n",
       "      <th>Mauritanie</th>\n",
       "      <td>7.86</td>\n",
       "      <td>11.68</td>\n",
       "      <td>3.82</td>\n",
       "    </tr>\n",
       "    <tr>\n",
       "      <th>Nigéria</th>\n",
       "      <td>8.56</td>\n",
       "      <td>11.95</td>\n",
       "      <td>3.39</td>\n",
       "    </tr>\n",
       "    <tr>\n",
       "      <th>Gambie</th>\n",
       "      <td>10.18</td>\n",
       "      <td>13.55</td>\n",
       "      <td>3.37</td>\n",
       "    </tr>\n",
       "  </tbody>\n",
       "</table>\n",
       "</div>"
      ],
      "text/plain": [
       "Année                                        2013   2017  Évolution\n",
       "Zone                                                               \n",
       "Lesotho                                     14.79  38.25      23.46\n",
       "Venezuela (République bolivarienne du)       4.70  27.21      22.51\n",
       "Mozambique                                  23.08  32.81       9.73\n",
       "Rwanda                                      25.90  35.06       9.16\n",
       "Eswatini                                     9.20  17.78       8.58\n",
       "Madagascar                                  33.10  41.06       7.96\n",
       "République populaire démocratique de Corée  41.32  47.19       5.87\n",
       "Mauritanie                                   7.86  11.68       3.82\n",
       "Nigéria                                      8.56  11.95       3.39\n",
       "Gambie                                      10.18  13.55       3.37"
      ]
     },
     "execution_count": 51,
     "metadata": {},
     "output_type": "execute_result"
    }
   ],
   "source": [
    "# Create a new column whose values reflect the difference between the percentage of undernourishment between '2013' and '2017'\n",
    "diff_sous_nut['Évolution'] = (diff_sous_nut[2017] - diff_sous_nut[2013])\n",
    "\n",
    "# Ranking of the 10 countries with an increase in their undernourishment rate\n",
    "diff_sous_nut.sort_values(['Évolution'], ascending=False).head(10)"
   ]
  },
  {
   "cell_type": "markdown",
   "id": "8621f43a",
   "metadata": {},
   "source": [
    "**Between 2013 and 2017, two countries saw a significant increase in their undernourishment rates: Lesotho, with an increase of 23.46 percentage points from 14.79% in 2013 to 38.25% in 2017. And Venezuela, with an increase of 22.51 percentage points from 4.70% to 27.21%.\n",
    "We can noted that none of these countries are among the 10 countries that receive the most or the least food aid.**"
   ]
  },
  {
   "cell_type": "markdown",
   "id": "517bc410",
   "metadata": {},
   "source": [
    "### The 10 countries with the biggest reductions in undernourishment rates <a class=\"anchor\" id=\"chapitre7_2\"></a>"
   ]
  },
  {
   "cell_type": "code",
   "execution_count": 52,
   "id": "f009af5d",
   "metadata": {},
   "outputs": [
    {
     "data": {
      "text/html": [
       "<div>\n",
       "<style scoped>\n",
       "    .dataframe tbody tr th:only-of-type {\n",
       "        vertical-align: middle;\n",
       "    }\n",
       "\n",
       "    .dataframe tbody tr th {\n",
       "        vertical-align: top;\n",
       "    }\n",
       "\n",
       "    .dataframe thead th {\n",
       "        text-align: right;\n",
       "    }\n",
       "</style>\n",
       "<table border=\"1\" class=\"dataframe\">\n",
       "  <thead>\n",
       "    <tr style=\"text-align: right;\">\n",
       "      <th>Année</th>\n",
       "      <th>2013</th>\n",
       "      <th>2017</th>\n",
       "      <th>Évolution</th>\n",
       "    </tr>\n",
       "    <tr>\n",
       "      <th>Zone</th>\n",
       "      <th></th>\n",
       "      <th></th>\n",
       "      <th></th>\n",
       "    </tr>\n",
       "  </thead>\n",
       "  <tbody>\n",
       "    <tr>\n",
       "      <th>Namibie</th>\n",
       "      <td>22.39</td>\n",
       "      <td>12.49</td>\n",
       "      <td>-9.90</td>\n",
       "    </tr>\n",
       "    <tr>\n",
       "      <th>Angola</th>\n",
       "      <td>29.21</td>\n",
       "      <td>19.45</td>\n",
       "      <td>-9.76</td>\n",
       "    </tr>\n",
       "    <tr>\n",
       "      <th>Éthiopie</th>\n",
       "      <td>27.47</td>\n",
       "      <td>19.83</td>\n",
       "      <td>-7.64</td>\n",
       "    </tr>\n",
       "    <tr>\n",
       "      <th>Liban</th>\n",
       "      <td>11.84</td>\n",
       "      <td>5.87</td>\n",
       "      <td>-5.97</td>\n",
       "    </tr>\n",
       "    <tr>\n",
       "      <th>Équateur</th>\n",
       "      <td>14.64</td>\n",
       "      <td>8.94</td>\n",
       "      <td>-5.70</td>\n",
       "    </tr>\n",
       "    <tr>\n",
       "      <th>Honduras</th>\n",
       "      <td>19.32</td>\n",
       "      <td>13.79</td>\n",
       "      <td>-5.53</td>\n",
       "    </tr>\n",
       "    <tr>\n",
       "      <th>Sierra Leone</th>\n",
       "      <td>32.05</td>\n",
       "      <td>26.71</td>\n",
       "      <td>-5.34</td>\n",
       "    </tr>\n",
       "    <tr>\n",
       "      <th>Pakistan</th>\n",
       "      <td>16.26</td>\n",
       "      <td>11.93</td>\n",
       "      <td>-4.33</td>\n",
       "    </tr>\n",
       "    <tr>\n",
       "      <th>Ouzbékistan</th>\n",
       "      <td>6.68</td>\n",
       "      <td>2.82</td>\n",
       "      <td>-3.86</td>\n",
       "    </tr>\n",
       "    <tr>\n",
       "      <th>Bolivie (État plurinational de)</th>\n",
       "      <td>18.97</td>\n",
       "      <td>15.19</td>\n",
       "      <td>-3.78</td>\n",
       "    </tr>\n",
       "  </tbody>\n",
       "</table>\n",
       "</div>"
      ],
      "text/plain": [
       "Année                             2013   2017  Évolution\n",
       "Zone                                                    \n",
       "Namibie                          22.39  12.49      -9.90\n",
       "Angola                           29.21  19.45      -9.76\n",
       "Éthiopie                         27.47  19.83      -7.64\n",
       "Liban                            11.84   5.87      -5.97\n",
       "Équateur                         14.64   8.94      -5.70\n",
       "Honduras                         19.32  13.79      -5.53\n",
       "Sierra Leone                     32.05  26.71      -5.34\n",
       "Pakistan                         16.26  11.93      -4.33\n",
       "Ouzbékistan                       6.68   2.82      -3.86\n",
       "Bolivie (État plurinational de)  18.97  15.19      -3.78"
      ]
     },
     "execution_count": 52,
     "metadata": {},
     "output_type": "execute_result"
    }
   ],
   "source": [
    "# Ranking of the 10 countries where the undernourishment rate has decreased\n",
    "# ascending=True' is used to rank the column in ascending order\n",
    "diff_sous_nut.sort_values(['Évolution'], ascending=True).head(10)"
   ]
  },
  {
   "cell_type": "markdown",
   "id": "90a6d6e9",
   "metadata": {},
   "source": [
    "**This table shows the top ten positive changes in undernourishment in specific countries, including Namibia with a decrease of -9.90 percentage points from 22.39% to 12.49%, Angola with a decrease of 9.76 points from 29.21% to 19.45%, and Ethiopia with a decrease of 7.64 points. It is interesting to note that Ethiopia is the second country that received the most food aid between 2013 and 2017, with 12.5% of international aid. In contrast, Ecuador, which saw its undernourishment rate fall by 5.70 points, ranks 5th among the countries that received the least food aid between 2013 and 2017.** "
   ]
  },
  {
   "cell_type": "markdown",
   "id": "641aa111",
   "metadata": {},
   "source": [
    "----------------------------------------------------------------------------------------------------------------------"
   ]
  },
  {
   "cell_type": "markdown",
   "id": "ae13ad7e",
   "metadata": {},
   "source": [
    "## Evolution of food availability between 2013 and 2017 <a class=\"anchor\" id=\"chapitre8\"></a>"
   ]
  },
  {
   "cell_type": "code",
   "execution_count": 53,
   "id": "85cd2eee",
   "metadata": {},
   "outputs": [],
   "source": [
    "# Import csv file\n",
    "dispo_alim_2017 = pd.read_csv('/Users/antoinebergounhe/Desktop/Openclassroom/Projet 4/DAN-P4-FAO/dispo_alimentaire_2017.csv')"
   ]
  },
  {
   "cell_type": "code",
   "execution_count": 54,
   "id": "ae30a84f",
   "metadata": {},
   "outputs": [],
   "source": [
    "# Create a dataframe for 2017 in the form of a double-entry table using the 'pivot_table' method\n",
    "# The rows are the countries, the columns are 'food availability 2017' and 'domestic availability 2017'\n",
    "diff_dispo_2017 = dispo_alim_2017.pivot_table(index='Zone', columns='Élément', values='Valeur', aggfunc='sum')\n",
    "\n",
    "# Create another dataframe for the year 2013 using the '.groupby' method. The dataframe will be sorted by zone using the sum of the columns selected with the '.sum()' function\n",
    "diff_dispo_2013 = dispo_alim.groupby(['Zone'])['Disponibilité alimentaire (Kcal/personne/jour)'].sum()"
   ]
  },
  {
   "cell_type": "code",
   "execution_count": 55,
   "id": "93b0ef68",
   "metadata": {},
   "outputs": [],
   "source": [
    "# Create a dataframe to link the 2013 data to the 2017 data\n",
    "diff_dispo = pd.merge(diff_dispo_2017,diff_dispo_2013, on=['Zone'])\n",
    "\n",
    "# Columns renamed to avoid duplication between 2013 and 2017\n",
    "diff_dispo = diff_dispo.rename(columns={'Disponibilité alimentaire (Kcal/personne/jour)_x':'Disponibilité alimentaire 2017 (Kcal/personne/jour)','Disponibilité alimentaire (Kcal/personne/jour)_y':'Disponibilité alimentaire 2013 (Kcal/personne/jour)'})\n",
    "\n",
    "# Removal of the indoor availability column, as it is useless in this case\n",
    "diff_dispo = diff_dispo.drop(['Disponibilité intérieure'],axis=1)\n",
    "\n",
    "# Addition of the 'Food evolution' column to reflect the increase or decrease in food availability between 2013 and 2017\n",
    "diff_dispo['Évolution alimentaire'] = round(diff_dispo['Disponibilité alimentaire 2017 (Kcal/personne/jour)'] - diff_dispo['Disponibilité alimentaire 2013 (Kcal/personne/jour)'],0)"
   ]
  },
  {
   "cell_type": "markdown",
   "id": "f466a6f6",
   "metadata": {},
   "source": [
    "### The 10 countries with the largest increase in food availability (Kcal/person/day) <a class=\"anchor\" id=\"section8_1\"></a>"
   ]
  },
  {
   "cell_type": "code",
   "execution_count": 56,
   "id": "7aca4032",
   "metadata": {},
   "outputs": [
    {
     "data": {
      "text/html": [
       "<div>\n",
       "<style scoped>\n",
       "    .dataframe tbody tr th:only-of-type {\n",
       "        vertical-align: middle;\n",
       "    }\n",
       "\n",
       "    .dataframe tbody tr th {\n",
       "        vertical-align: top;\n",
       "    }\n",
       "\n",
       "    .dataframe thead th {\n",
       "        text-align: right;\n",
       "    }\n",
       "</style>\n",
       "<table border=\"1\" class=\"dataframe\">\n",
       "  <thead>\n",
       "    <tr style=\"text-align: right;\">\n",
       "      <th></th>\n",
       "      <th>Disponibilité alimentaire 2017 (Kcal/personne/jour)</th>\n",
       "      <th>Disponibilité alimentaire 2013 (Kcal/personne/jour)</th>\n",
       "      <th>Évolution alimentaire</th>\n",
       "    </tr>\n",
       "    <tr>\n",
       "      <th>Zone</th>\n",
       "      <th></th>\n",
       "      <th></th>\n",
       "      <th></th>\n",
       "    </tr>\n",
       "  </thead>\n",
       "  <tbody>\n",
       "    <tr>\n",
       "      <th>Ouzbékistan</th>\n",
       "      <td>3197.02</td>\n",
       "      <td>2759.0</td>\n",
       "      <td>438.0</td>\n",
       "    </tr>\n",
       "    <tr>\n",
       "      <th>Tadjikistan</th>\n",
       "      <td>2618.33</td>\n",
       "      <td>2199.0</td>\n",
       "      <td>419.0</td>\n",
       "    </tr>\n",
       "    <tr>\n",
       "      <th>Chypre</th>\n",
       "      <td>3038.48</td>\n",
       "      <td>2646.0</td>\n",
       "      <td>392.0</td>\n",
       "    </tr>\n",
       "    <tr>\n",
       "      <th>Chine - RAS de Macao</th>\n",
       "      <td>3298.72</td>\n",
       "      <td>2915.0</td>\n",
       "      <td>384.0</td>\n",
       "    </tr>\n",
       "    <tr>\n",
       "      <th>Guyana</th>\n",
       "      <td>3130.54</td>\n",
       "      <td>2762.0</td>\n",
       "      <td>369.0</td>\n",
       "    </tr>\n",
       "    <tr>\n",
       "      <th>Éthiopie</th>\n",
       "      <td>2484.90</td>\n",
       "      <td>2129.0</td>\n",
       "      <td>356.0</td>\n",
       "    </tr>\n",
       "    <tr>\n",
       "      <th>République démocratique populaire lao</th>\n",
       "      <td>2768.48</td>\n",
       "      <td>2455.0</td>\n",
       "      <td>313.0</td>\n",
       "    </tr>\n",
       "    <tr>\n",
       "      <th>Zambie</th>\n",
       "      <td>2232.15</td>\n",
       "      <td>1924.0</td>\n",
       "      <td>308.0</td>\n",
       "    </tr>\n",
       "    <tr>\n",
       "      <th>Namibie</th>\n",
       "      <td>2464.90</td>\n",
       "      <td>2166.0</td>\n",
       "      <td>299.0</td>\n",
       "    </tr>\n",
       "    <tr>\n",
       "      <th>Islande</th>\n",
       "      <td>3651.71</td>\n",
       "      <td>3381.0</td>\n",
       "      <td>271.0</td>\n",
       "    </tr>\n",
       "  </tbody>\n",
       "</table>\n",
       "</div>"
      ],
      "text/plain": [
       "                                       Disponibilité alimentaire 2017 (Kcal/personne/jour)  \\\n",
       "Zone                                                                                         \n",
       "Ouzbékistan                                                                      3197.02     \n",
       "Tadjikistan                                                                      2618.33     \n",
       "Chypre                                                                           3038.48     \n",
       "Chine - RAS de Macao                                                             3298.72     \n",
       "Guyana                                                                           3130.54     \n",
       "Éthiopie                                                                         2484.90     \n",
       "République démocratique populaire lao                                            2768.48     \n",
       "Zambie                                                                           2232.15     \n",
       "Namibie                                                                          2464.90     \n",
       "Islande                                                                          3651.71     \n",
       "\n",
       "                                       Disponibilité alimentaire 2013 (Kcal/personne/jour)  \\\n",
       "Zone                                                                                         \n",
       "Ouzbékistan                                                                       2759.0     \n",
       "Tadjikistan                                                                       2199.0     \n",
       "Chypre                                                                            2646.0     \n",
       "Chine - RAS de Macao                                                              2915.0     \n",
       "Guyana                                                                            2762.0     \n",
       "Éthiopie                                                                          2129.0     \n",
       "République démocratique populaire lao                                             2455.0     \n",
       "Zambie                                                                            1924.0     \n",
       "Namibie                                                                           2166.0     \n",
       "Islande                                                                           3381.0     \n",
       "\n",
       "                                       Évolution alimentaire  \n",
       "Zone                                                          \n",
       "Ouzbékistan                                            438.0  \n",
       "Tadjikistan                                            419.0  \n",
       "Chypre                                                 392.0  \n",
       "Chine - RAS de Macao                                   384.0  \n",
       "Guyana                                                 369.0  \n",
       "Éthiopie                                               356.0  \n",
       "République démocratique populaire lao                  313.0  \n",
       "Zambie                                                 308.0  \n",
       "Namibie                                                299.0  \n",
       "Islande                                                271.0  "
      ]
     },
     "execution_count": 56,
     "metadata": {},
     "output_type": "execute_result"
    }
   ],
   "source": [
    "diff_dispo.sort_values(['Évolution alimentaire'], ascending=False).head(10)"
   ]
  },
  {
   "cell_type": "markdown",
   "id": "a95a19a9",
   "metadata": {},
   "source": [
    "**We can see that two Central Asian countries have seen the biggest increases in 4 years. Uzbekistan and Tajikistan have increased their food availability by more than 400 calories per person per day, with increases of 438 and 419 respectively, meaning that Tajikistan has moved from a food deficit to a food surplus, as has Laos, which has the seventh best increase at 313 calories. Ethiopia and Namibia are also approaching 2,500 calories per person per day, with increases of 356 and 299 respectively. Zambia, which was the country with the second lowest food availability in 2013, saw its figure increase by 308 calories per person per day, from 1924 calories to 2232 calories, despite being the ninth country to receive the least food aid over the same period.**"
   ]
  },
  {
   "cell_type": "markdown",
   "id": "117d871d",
   "metadata": {},
   "source": [
    "### The 10 countries with the largest decline in food availability (Kcal/person/day) <a class=\"anchor\" id=\"section8_2\"></a>"
   ]
  },
  {
   "cell_type": "code",
   "execution_count": 57,
   "id": "fe4cb048",
   "metadata": {},
   "outputs": [
    {
     "data": {
      "text/html": [
       "<div>\n",
       "<style scoped>\n",
       "    .dataframe tbody tr th:only-of-type {\n",
       "        vertical-align: middle;\n",
       "    }\n",
       "\n",
       "    .dataframe tbody tr th {\n",
       "        vertical-align: top;\n",
       "    }\n",
       "\n",
       "    .dataframe thead th {\n",
       "        text-align: right;\n",
       "    }\n",
       "</style>\n",
       "<table border=\"1\" class=\"dataframe\">\n",
       "  <thead>\n",
       "    <tr style=\"text-align: right;\">\n",
       "      <th></th>\n",
       "      <th>Disponibilité alimentaire 2017 (Kcal/personne/jour)</th>\n",
       "      <th>Disponibilité alimentaire 2013 (Kcal/personne/jour)</th>\n",
       "      <th>Évolution alimentaire</th>\n",
       "    </tr>\n",
       "    <tr>\n",
       "      <th>Zone</th>\n",
       "      <th></th>\n",
       "      <th></th>\n",
       "      <th></th>\n",
       "    </tr>\n",
       "  </thead>\n",
       "  <tbody>\n",
       "    <tr>\n",
       "      <th>Maldives</th>\n",
       "      <td>2268.53</td>\n",
       "      <td>2733.0</td>\n",
       "      <td>-464.0</td>\n",
       "    </tr>\n",
       "    <tr>\n",
       "      <th>Jordanie</th>\n",
       "      <td>2739.50</td>\n",
       "      <td>3099.0</td>\n",
       "      <td>-360.0</td>\n",
       "    </tr>\n",
       "    <tr>\n",
       "      <th>Mozambique</th>\n",
       "      <td>1931.01</td>\n",
       "      <td>2282.0</td>\n",
       "      <td>-351.0</td>\n",
       "    </tr>\n",
       "    <tr>\n",
       "      <th>Lesotho</th>\n",
       "      <td>2181.03</td>\n",
       "      <td>2528.0</td>\n",
       "      <td>-347.0</td>\n",
       "    </tr>\n",
       "    <tr>\n",
       "      <th>Venezuela (République bolivarienne du)</th>\n",
       "      <td>2354.63</td>\n",
       "      <td>2633.0</td>\n",
       "      <td>-278.0</td>\n",
       "    </tr>\n",
       "    <tr>\n",
       "      <th>Yémen</th>\n",
       "      <td>1990.90</td>\n",
       "      <td>2217.0</td>\n",
       "      <td>-226.0</td>\n",
       "    </tr>\n",
       "    <tr>\n",
       "      <th>Oman</th>\n",
       "      <td>2935.84</td>\n",
       "      <td>3140.0</td>\n",
       "      <td>-204.0</td>\n",
       "    </tr>\n",
       "    <tr>\n",
       "      <th>Émirats arabes unis</th>\n",
       "      <td>3074.52</td>\n",
       "      <td>3275.0</td>\n",
       "      <td>-200.0</td>\n",
       "    </tr>\n",
       "    <tr>\n",
       "      <th>Gabon</th>\n",
       "      <td>2640.50</td>\n",
       "      <td>2826.0</td>\n",
       "      <td>-186.0</td>\n",
       "    </tr>\n",
       "    <tr>\n",
       "      <th>Égypte</th>\n",
       "      <td>3343.69</td>\n",
       "      <td>3518.0</td>\n",
       "      <td>-174.0</td>\n",
       "    </tr>\n",
       "  </tbody>\n",
       "</table>\n",
       "</div>"
      ],
      "text/plain": [
       "                                        Disponibilité alimentaire 2017 (Kcal/personne/jour)  \\\n",
       "Zone                                                                                          \n",
       "Maldives                                                                          2268.53     \n",
       "Jordanie                                                                          2739.50     \n",
       "Mozambique                                                                        1931.01     \n",
       "Lesotho                                                                           2181.03     \n",
       "Venezuela (République bolivarienne du)                                            2354.63     \n",
       "Yémen                                                                             1990.90     \n",
       "Oman                                                                              2935.84     \n",
       "Émirats arabes unis                                                               3074.52     \n",
       "Gabon                                                                             2640.50     \n",
       "Égypte                                                                            3343.69     \n",
       "\n",
       "                                        Disponibilité alimentaire 2013 (Kcal/personne/jour)  \\\n",
       "Zone                                                                                          \n",
       "Maldives                                                                           2733.0     \n",
       "Jordanie                                                                           3099.0     \n",
       "Mozambique                                                                         2282.0     \n",
       "Lesotho                                                                            2528.0     \n",
       "Venezuela (République bolivarienne du)                                             2633.0     \n",
       "Yémen                                                                              2217.0     \n",
       "Oman                                                                               3140.0     \n",
       "Émirats arabes unis                                                                3275.0     \n",
       "Gabon                                                                              2826.0     \n",
       "Égypte                                                                             3518.0     \n",
       "\n",
       "                                        Évolution alimentaire  \n",
       "Zone                                                           \n",
       "Maldives                                               -464.0  \n",
       "Jordanie                                               -360.0  \n",
       "Mozambique                                             -351.0  \n",
       "Lesotho                                                -347.0  \n",
       "Venezuela (République bolivarienne du)                 -278.0  \n",
       "Yémen                                                  -226.0  \n",
       "Oman                                                   -204.0  \n",
       "Émirats arabes unis                                    -200.0  \n",
       "Gabon                                                  -186.0  \n",
       "Égypte                                                 -174.0  "
      ]
     },
     "execution_count": 57,
     "metadata": {},
     "output_type": "execute_result"
    }
   ],
   "source": [
    "diff_dispo.sort_values(['Évolution alimentaire'], ascending=True).head(10)"
   ]
  },
  {
   "cell_type": "markdown",
   "id": "6e6614d8",
   "metadata": {},
   "source": [
    "**The Maldives is the country with the biggest drop in food availability, -464 calories per day per person, taking the country from a calorie surplus to a deficit, falling below the 2,500 calorie mark. Other countries have suffered the same fate, with Lesotho falling from 2,528 to 2,181 and Venezuela from 2,633 in 2013 to 2,354 per person per day in 2017. It is interesting to note that Mozambique, Lesotho and Venezuela are also the top three countries that have seen the biggest increase in their undernourishment rates; on the other hand, despite these many countries seeing a decrease, only Yemen received significant food aid, with 10.9% of international aid.**"
   ]
  },
  {
   "cell_type": "code",
   "execution_count": 58,
   "id": "707f74ad",
   "metadata": {},
   "outputs": [
    {
     "name": "stdout",
     "output_type": "stream",
     "text": [
      "In 2013, the number of countries with food availability in calories per person per day above 2500 was 132, and the number with availability below 2500 was 42. In 2017, the number of countries with a value above 2500 is 143 and 37 countries have a lower value.\n"
     ]
    }
   ],
   "source": [
    "# The number of countries in 2013 with a value above 2,500 calories per person per day is stored in a variable\n",
    "plus_2500_2013 = dispoKcal.sort_values(by=['Disponibilité alimentaire (Kcal/personne/jour)'], ascending=False).query(\"`Disponibilité alimentaire (Kcal/personne/jour)` > 2500\").shape[0]\n",
    "moins_2500_2013 = dispoKcal.sort_values(by=['Disponibilité alimentaire (Kcal/personne/jour)'], ascending=True).query(\"`Disponibilité alimentaire (Kcal/personne/jour)` < 2500\").shape[0]\n",
    "\n",
    "# The number of countries in 2017 with a value above 2,500 calories per person per day is stored in a variable\n",
    "plus_2500_2017 = diff_dispo_2017.sort_values(by=['Disponibilité alimentaire (Kcal/personne/jour)'], ascending=False).query(\"`Disponibilité alimentaire (Kcal/personne/jour)` > 2500\").shape[0]\n",
    "moins_2500_2017 = diff_dispo_2017.sort_values(by=['Disponibilité alimentaire (Kcal/personne/jour)'], ascending=True).query(\"`Disponibilité alimentaire (Kcal/personne/jour)` < 2500\").shape[0]\n",
    "\n",
    "print(f\"In 2013, the number of countries with food availability in calories per person per day above 2500 was {plus_2500_2013}, and the number with availability below 2500 was {moins_2500_2013}. In 2017, the number of countries with a value above 2500 is {plus_2500_2017} and {moins_2500_2017} countries have a lower value.\")"
   ]
  },
  {
   "cell_type": "markdown",
   "id": "8bcd6958",
   "metadata": {},
   "source": [
    "**In 2013, we found that 24% of countries did not have enough food availability (in calories) to be considered healthy, with 132 compared to 42. In 2017, the number of countries with sufficient food availability has increased and the number with insufficient food availability has decreased, so in four years we have gone from 24% to 20% of countries with insufficient food availability.**"
   ]
  },
  {
   "cell_type": "markdown",
   "id": "e5fbe2d2",
   "metadata": {},
   "source": [
    "----------------------------------------------------------------------------------------------------------------------"
   ]
  },
  {
   "cell_type": "markdown",
   "id": "5ac565e2",
   "metadata": {},
   "source": [
    "## The 10 countries with the highest loss rates<a class=\"anchor\" id=\"chapitre9\"></a>"
   ]
  },
  {
   "cell_type": "code",
   "execution_count": 59,
   "id": "c0e443ba",
   "metadata": {},
   "outputs": [
    {
     "data": {
      "text/html": [
       "<div>\n",
       "<style scoped>\n",
       "    .dataframe tbody tr th:only-of-type {\n",
       "        vertical-align: middle;\n",
       "    }\n",
       "\n",
       "    .dataframe tbody tr th {\n",
       "        vertical-align: top;\n",
       "    }\n",
       "\n",
       "    .dataframe thead th {\n",
       "        text-align: right;\n",
       "    }\n",
       "</style>\n",
       "<table border=\"1\" class=\"dataframe\">\n",
       "  <thead>\n",
       "    <tr style=\"text-align: right;\">\n",
       "      <th></th>\n",
       "      <th>Zone</th>\n",
       "      <th>Disponibilité intérieure</th>\n",
       "      <th>Aliments pour animaux</th>\n",
       "      <th>Autres Utilisations</th>\n",
       "      <th>Nourriture</th>\n",
       "      <th>Pertes</th>\n",
       "      <th>Semences</th>\n",
       "      <th>Traitement</th>\n",
       "      <th>Part Aliments pour animaux</th>\n",
       "      <th>Part Autres Utilisations</th>\n",
       "      <th>Part Nourriture</th>\n",
       "      <th>Part Pertes</th>\n",
       "      <th>Part Semences</th>\n",
       "      <th>Part Traitement</th>\n",
       "    </tr>\n",
       "  </thead>\n",
       "  <tbody>\n",
       "    <tr>\n",
       "      <th>0</th>\n",
       "      <td>Sierra Leone</td>\n",
       "      <td>6570.0</td>\n",
       "      <td>901.0</td>\n",
       "      <td>225.0</td>\n",
       "      <td>3070.0</td>\n",
       "      <td>2191.0</td>\n",
       "      <td>55.0</td>\n",
       "      <td>126.0</td>\n",
       "      <td>14.0</td>\n",
       "      <td>3.0</td>\n",
       "      <td>47.0</td>\n",
       "      <td>33.0</td>\n",
       "      <td>1.0</td>\n",
       "      <td>2.0</td>\n",
       "    </tr>\n",
       "    <tr>\n",
       "      <th>1</th>\n",
       "      <td>Ghana</td>\n",
       "      <td>38998.0</td>\n",
       "      <td>4878.0</td>\n",
       "      <td>3768.0</td>\n",
       "      <td>22482.0</td>\n",
       "      <td>7442.0</td>\n",
       "      <td>77.0</td>\n",
       "      <td>429.0</td>\n",
       "      <td>13.0</td>\n",
       "      <td>10.0</td>\n",
       "      <td>58.0</td>\n",
       "      <td>19.0</td>\n",
       "      <td>0.0</td>\n",
       "      <td>1.0</td>\n",
       "    </tr>\n",
       "    <tr>\n",
       "      <th>2</th>\n",
       "      <td>Angola</td>\n",
       "      <td>32029.0</td>\n",
       "      <td>9259.0</td>\n",
       "      <td>451.0</td>\n",
       "      <td>15059.0</td>\n",
       "      <td>4799.0</td>\n",
       "      <td>337.0</td>\n",
       "      <td>2121.0</td>\n",
       "      <td>29.0</td>\n",
       "      <td>1.0</td>\n",
       "      <td>47.0</td>\n",
       "      <td>15.0</td>\n",
       "      <td>1.0</td>\n",
       "      <td>7.0</td>\n",
       "    </tr>\n",
       "    <tr>\n",
       "      <th>3</th>\n",
       "      <td>Cameroun</td>\n",
       "      <td>26222.0</td>\n",
       "      <td>2166.0</td>\n",
       "      <td>1027.0</td>\n",
       "      <td>15259.0</td>\n",
       "      <td>3981.0</td>\n",
       "      <td>337.0</td>\n",
       "      <td>3451.0</td>\n",
       "      <td>8.0</td>\n",
       "      <td>4.0</td>\n",
       "      <td>58.0</td>\n",
       "      <td>15.0</td>\n",
       "      <td>1.0</td>\n",
       "      <td>13.0</td>\n",
       "    </tr>\n",
       "    <tr>\n",
       "      <th>4</th>\n",
       "      <td>Dominique</td>\n",
       "      <td>141.0</td>\n",
       "      <td>20.0</td>\n",
       "      <td>24.0</td>\n",
       "      <td>68.0</td>\n",
       "      <td>20.0</td>\n",
       "      <td>4.0</td>\n",
       "      <td>5.0</td>\n",
       "      <td>14.0</td>\n",
       "      <td>17.0</td>\n",
       "      <td>48.0</td>\n",
       "      <td>14.0</td>\n",
       "      <td>3.0</td>\n",
       "      <td>4.0</td>\n",
       "    </tr>\n",
       "    <tr>\n",
       "      <th>5</th>\n",
       "      <td>Guinée</td>\n",
       "      <td>8404.0</td>\n",
       "      <td>648.0</td>\n",
       "      <td>371.0</td>\n",
       "      <td>5711.0</td>\n",
       "      <td>1074.0</td>\n",
       "      <td>116.0</td>\n",
       "      <td>484.0</td>\n",
       "      <td>8.0</td>\n",
       "      <td>4.0</td>\n",
       "      <td>68.0</td>\n",
       "      <td>13.0</td>\n",
       "      <td>1.0</td>\n",
       "      <td>6.0</td>\n",
       "    </tr>\n",
       "    <tr>\n",
       "      <th>6</th>\n",
       "      <td>Togo</td>\n",
       "      <td>4095.0</td>\n",
       "      <td>151.0</td>\n",
       "      <td>54.0</td>\n",
       "      <td>3186.0</td>\n",
       "      <td>476.0</td>\n",
       "      <td>152.0</td>\n",
       "      <td>120.0</td>\n",
       "      <td>4.0</td>\n",
       "      <td>1.0</td>\n",
       "      <td>78.0</td>\n",
       "      <td>12.0</td>\n",
       "      <td>4.0</td>\n",
       "      <td>3.0</td>\n",
       "    </tr>\n",
       "    <tr>\n",
       "      <th>7</th>\n",
       "      <td>Bulgarie</td>\n",
       "      <td>9458.0</td>\n",
       "      <td>1055.0</td>\n",
       "      <td>535.0</td>\n",
       "      <td>5111.0</td>\n",
       "      <td>1090.0</td>\n",
       "      <td>357.0</td>\n",
       "      <td>1312.0</td>\n",
       "      <td>11.0</td>\n",
       "      <td>6.0</td>\n",
       "      <td>54.0</td>\n",
       "      <td>12.0</td>\n",
       "      <td>4.0</td>\n",
       "      <td>14.0</td>\n",
       "    </tr>\n",
       "    <tr>\n",
       "      <th>8</th>\n",
       "      <td>Malawi</td>\n",
       "      <td>19877.0</td>\n",
       "      <td>4009.0</td>\n",
       "      <td>1296.0</td>\n",
       "      <td>8607.0</td>\n",
       "      <td>2428.0</td>\n",
       "      <td>354.0</td>\n",
       "      <td>3191.0</td>\n",
       "      <td>20.0</td>\n",
       "      <td>7.0</td>\n",
       "      <td>43.0</td>\n",
       "      <td>12.0</td>\n",
       "      <td>2.0</td>\n",
       "      <td>16.0</td>\n",
       "    </tr>\n",
       "    <tr>\n",
       "      <th>9</th>\n",
       "      <td>Uruguay</td>\n",
       "      <td>4988.0</td>\n",
       "      <td>1239.0</td>\n",
       "      <td>125.0</td>\n",
       "      <td>2658.0</td>\n",
       "      <td>531.0</td>\n",
       "      <td>183.0</td>\n",
       "      <td>280.0</td>\n",
       "      <td>25.0</td>\n",
       "      <td>3.0</td>\n",
       "      <td>53.0</td>\n",
       "      <td>11.0</td>\n",
       "      <td>4.0</td>\n",
       "      <td>6.0</td>\n",
       "    </tr>\n",
       "  </tbody>\n",
       "</table>\n",
       "</div>"
      ],
      "text/plain": [
       "           Zone  Disponibilité intérieure  Aliments pour animaux  \\\n",
       "0  Sierra Leone                    6570.0                  901.0   \n",
       "1         Ghana                   38998.0                 4878.0   \n",
       "2        Angola                   32029.0                 9259.0   \n",
       "3      Cameroun                   26222.0                 2166.0   \n",
       "4     Dominique                     141.0                   20.0   \n",
       "5        Guinée                    8404.0                  648.0   \n",
       "6          Togo                    4095.0                  151.0   \n",
       "7      Bulgarie                    9458.0                 1055.0   \n",
       "8        Malawi                   19877.0                 4009.0   \n",
       "9       Uruguay                    4988.0                 1239.0   \n",
       "\n",
       "   Autres Utilisations  Nourriture  Pertes  Semences  Traitement  \\\n",
       "0                225.0      3070.0  2191.0      55.0       126.0   \n",
       "1               3768.0     22482.0  7442.0      77.0       429.0   \n",
       "2                451.0     15059.0  4799.0     337.0      2121.0   \n",
       "3               1027.0     15259.0  3981.0     337.0      3451.0   \n",
       "4                 24.0        68.0    20.0       4.0         5.0   \n",
       "5                371.0      5711.0  1074.0     116.0       484.0   \n",
       "6                 54.0      3186.0   476.0     152.0       120.0   \n",
       "7                535.0      5111.0  1090.0     357.0      1312.0   \n",
       "8               1296.0      8607.0  2428.0     354.0      3191.0   \n",
       "9                125.0      2658.0   531.0     183.0       280.0   \n",
       "\n",
       "   Part Aliments pour animaux  Part Autres Utilisations  Part Nourriture  \\\n",
       "0                        14.0                       3.0             47.0   \n",
       "1                        13.0                      10.0             58.0   \n",
       "2                        29.0                       1.0             47.0   \n",
       "3                         8.0                       4.0             58.0   \n",
       "4                        14.0                      17.0             48.0   \n",
       "5                         8.0                       4.0             68.0   \n",
       "6                         4.0                       1.0             78.0   \n",
       "7                        11.0                       6.0             54.0   \n",
       "8                        20.0                       7.0             43.0   \n",
       "9                        25.0                       3.0             53.0   \n",
       "\n",
       "   Part Pertes  Part Semences  Part Traitement  \n",
       "0         33.0            1.0              2.0  \n",
       "1         19.0            0.0              1.0  \n",
       "2         15.0            1.0              7.0  \n",
       "3         15.0            1.0             13.0  \n",
       "4         14.0            3.0              4.0  \n",
       "5         13.0            1.0              6.0  \n",
       "6         12.0            4.0              3.0  \n",
       "7         12.0            4.0             14.0  \n",
       "8         12.0            2.0             16.0  \n",
       "9         11.0            4.0              6.0  "
      ]
     },
     "execution_count": 59,
     "metadata": {},
     "output_type": "execute_result"
    }
   ],
   "source": [
    "# Create a dataframe with countries ranked from highest to lowest using the '.sort_values' method\n",
    "class_perte = disporepart.sort_values(['Part Pertes'], ascending=False).head(10).reset_index(drop=True)\n",
    "class_perte"
   ]
  },
  {
   "cell_type": "markdown",
   "id": "860151ad",
   "metadata": {},
   "source": [
    "**In 2013, a country like Sierra Leone lost 33% of its internal availability. Ghana, in second place, lost 19% of its availability and Angola 15%. Of the ten countries with the highest loss rates, seven are African.**"
   ]
  }
 ],
 "metadata": {
  "kernelspec": {
   "display_name": "Python 3 (ipykernel)",
   "language": "python",
   "name": "python3"
  },
  "language_info": {
   "codemirror_mode": {
    "name": "ipython",
    "version": 3
   },
   "file_extension": ".py",
   "mimetype": "text/x-python",
   "name": "python",
   "nbconvert_exporter": "python",
   "pygments_lexer": "ipython3",
   "version": "3.9.13"
  }
 },
 "nbformat": 4,
 "nbformat_minor": 5
}
